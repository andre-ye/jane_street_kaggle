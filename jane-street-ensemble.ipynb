{
 "cells": [
  {
   "cell_type": "markdown",
   "id": "31073eb0",
   "metadata": {
    "papermill": {
     "duration": 0.030005,
     "end_time": "2021-09-13T14:55:02.450468",
     "exception": false,
     "start_time": "2021-09-13T14:55:02.420463",
     "status": "completed"
    },
    "tags": []
   },
   "source": [
    "# Jane Street: Ensemble"
   ]
  },
  {
   "cell_type": "code",
   "execution_count": 1,
   "id": "b59c4cb5",
   "metadata": {
    "_kg_hide-output": true,
    "execution": {
     "iopub.execute_input": "2021-09-13T14:55:02.515843Z",
     "iopub.status.busy": "2021-09-13T14:55:02.514153Z",
     "iopub.status.idle": "2021-09-13T14:55:08.023109Z",
     "shell.execute_reply": "2021-09-13T14:55:08.022093Z"
    },
    "papermill": {
     "duration": 5.541445,
     "end_time": "2021-09-13T14:55:08.023276",
     "exception": false,
     "start_time": "2021-09-13T14:55:02.481831",
     "status": "completed"
    },
    "tags": []
   },
   "outputs": [
    {
     "name": "stderr",
     "output_type": "stream",
     "text": [
      "2021-09-13 14:55:04.412809: I tensorflow/stream_executor/platform/default/dso_loader.cc:49] Successfully opened dynamic library libcudart.so.11.0\n"
     ]
    }
   ],
   "source": [
    "import warnings\n",
    "warnings.filterwarnings('ignore')\n",
    "\n",
    "import os, gc\n",
    "# import cudf\n",
    "import pandas as pd\n",
    "import numpy as np\n",
    "# import cupy as cp\n",
    "import janestreet\n",
    "import xgboost as xgb\n",
    "from hyperopt import hp, fmin, tpe, Trials\n",
    "from hyperopt.pyll.base import scope\n",
    "from sklearn.metrics import roc_auc_score, roc_curve\n",
    "from sklearn.model_selection import GroupKFold, train_test_split\n",
    "import matplotlib.pyplot as plt\n",
    "from tqdm.notebook import tqdm\n",
    "from joblib import dump, load\n",
    "\n",
    "import random\n",
    "import tensorflow as tf\n",
    "tf.random.set_seed(42)\n",
    "import tensorflow.keras.backend as K\n",
    "import tensorflow.keras.layers as layers\n",
    "from tensorflow.keras.callbacks import Callback, ReduceLROnPlateau, ModelCheckpoint, EarlyStopping\n",
    "from tensorflow.keras.layers import Input, Dense, BatchNormalization, Dropout, Concatenate, Lambda, GaussianNoise, Activation\n",
    "from tensorflow.keras.models import Model, Sequential\n",
    "from tensorflow.keras.losses import BinaryCrossentropy\n",
    "from tensorflow.keras.optimizers import Adam"
   ]
  },
  {
   "cell_type": "markdown",
   "id": "62cf2108",
   "metadata": {
    "papermill": {
     "duration": 0.028338,
     "end_time": "2021-09-13T14:55:08.080991",
     "exception": false,
     "start_time": "2021-09-13T14:55:08.052653",
     "status": "completed"
    },
    "tags": []
   },
   "source": [
    "# Preprocessing & Utils"
   ]
  },
  {
   "cell_type": "code",
   "execution_count": 2,
   "id": "a8dc7c7c",
   "metadata": {
    "_kg_hide-output": false,
    "execution": {
     "iopub.execute_input": "2021-09-13T14:55:08.144054Z",
     "iopub.status.busy": "2021-09-13T14:55:08.143353Z",
     "iopub.status.idle": "2021-09-13T14:57:51.479309Z",
     "shell.execute_reply": "2021-09-13T14:57:51.478760Z"
    },
    "papermill": {
     "duration": 163.369882,
     "end_time": "2021-09-13T14:57:51.479452",
     "exception": false,
     "start_time": "2021-09-13T14:55:08.109570",
     "status": "completed"
    },
    "tags": []
   },
   "outputs": [
    {
     "name": "stdout",
     "output_type": "stream",
     "text": [
      "Filling...\n"
     ]
    }
   ],
   "source": [
    "# print('Loading...')\n",
    "# train = cudf.read_csv('/kaggle/input/jane-street-market-prediction/train.csv')\n",
    "train = pd.read_csv('/kaggle/input/jane-street-market-prediction/train.csv')\n",
    "features = [c for c in train.columns if 'feature' in c]\n",
    "\n",
    "print('Filling...')\n",
    "f_mean = train[features[1:]].mean()\n",
    "# train = train.query('date > 85').reset_index(drop = True) \n",
    "train = train.query('weight > 0').reset_index(drop = True)\n",
    "train[features[1:]] = train[features[1:]].fillna(f_mean)\n",
    "train['action'] = (train['resp'] > 0).astype('int')\n",
    "# print('Converting...')\n",
    "# train = train.to_pandas()\n",
    "# f_mean = f_mean.values.get()\n",
    "# np.save('f_mean.npy', f_mean)\n",
    "\n",
    "# print('Finish.')"
   ]
  },
  {
   "cell_type": "code",
   "execution_count": 3,
   "id": "896e20a8",
   "metadata": {
    "execution": {
     "iopub.execute_input": "2021-09-13T14:57:51.547017Z",
     "iopub.status.busy": "2021-09-13T14:57:51.545548Z",
     "iopub.status.idle": "2021-09-13T14:57:52.219032Z",
     "shell.execute_reply": "2021-09-13T14:57:52.218492Z"
    },
    "papermill": {
     "duration": 0.709119,
     "end_time": "2021-09-13T14:57:52.219176",
     "exception": false,
     "start_time": "2021-09-13T14:57:51.510057",
     "status": "completed"
    },
    "tags": []
   },
   "outputs": [],
   "source": [
    "resp_cols = ['resp_1', 'resp_2', 'resp_3', 'resp', 'resp_4']\n",
    "X = train[features]\n",
    "y = np.stack([(train[c] > 0).astype('int') for c in resp_cols]).T #Multitarget\n",
    "weighted_values = abs(train['resp']) * (train[\"weight\"].transform(\"sqrt\").transform(\"sqrt\"))"
   ]
  },
  {
   "cell_type": "code",
   "execution_count": 4,
   "id": "141ecba5",
   "metadata": {
    "execution": {
     "iopub.execute_input": "2021-09-13T14:57:52.296465Z",
     "iopub.status.busy": "2021-09-13T14:57:52.290133Z",
     "iopub.status.idle": "2021-09-13T14:58:36.393155Z",
     "shell.execute_reply": "2021-09-13T14:58:36.393564Z"
    },
    "papermill": {
     "duration": 44.144886,
     "end_time": "2021-09-13T14:58:36.393717",
     "exception": false,
     "start_time": "2021-09-13T14:57:52.248831",
     "status": "completed"
    },
    "tags": []
   },
   "outputs": [
    {
     "name": "stdout",
     "output_type": "stream",
     "text": [
      "Memory usage of dataframe is 2101.1269302368164 MB\n"
     ]
    },
    {
     "data": {
      "application/vnd.jupyter.widget-view+json": {
       "model_id": "dc2c592435ab49f4b7686d16ad5db238",
       "version_major": 2,
       "version_minor": 0
      },
      "text/plain": [
       "  0%|          | 0/139 [00:00<?, ?it/s]"
      ]
     },
     "metadata": {},
     "output_type": "display_data"
    },
    {
     "name": "stdout",
     "output_type": "stream",
     "text": [
      "Memory usage of dataframe after reduction 525.2818241119385 MB\n",
      "Reduced by 74.99999564268427 % \n"
     ]
    }
   ],
   "source": [
    "def reduce_memory_usage(df):\n",
    "    \n",
    "    start_memory = df.memory_usage().sum() / 1024**2\n",
    "    print(f\"Memory usage of dataframe is {start_memory} MB\")\n",
    "    \n",
    "    for col in tqdm(df.columns):\n",
    "        col_type = df[col].dtype\n",
    "        \n",
    "        if col_type != 'object':\n",
    "            c_min = df[col].min()\n",
    "            c_max = df[col].max()\n",
    "            \n",
    "            if str(col_type)[:3] == 'int':\n",
    "                if c_min > np.iinfo(np.int8).min and c_max < np.iinfo(np.int8).max:\n",
    "                    df[col] = df[col].astype(np.int8)\n",
    "                elif c_min > np.iinfo(np.int16).min and c_max < np.iinfo(np.int16).max:\n",
    "                    df[col] = df[col].astype(np.int16)\n",
    "                elif c_min > np.iinfo(np.int32).min and c_max < np.iinfo(np.int32).max:\n",
    "                    df[col] = df[col].astype(np.int32)\n",
    "                elif c_min > np.iinfo(np.int64).min and c_max < np.iinfo(np.int64).max:\n",
    "                    df[col] = df[col].astype(np.int64)\n",
    "            \n",
    "            else:\n",
    "                if c_min > np.finfo(np.float16).min and c_max < np.finfo(np.float16).max:\n",
    "                    df[col] = df[col].astype(np.float16)\n",
    "                elif c_min > np.finfo(np.float32).min and c_max < np.finfo(np.float32).max:\n",
    "                    df[col] = df[col].astype(np.float32)\n",
    "                else:\n",
    "                    pass\n",
    "        else:\n",
    "            df[col] = df[col].astype('category')\n",
    "    \n",
    "    end_memory = df.memory_usage().sum() / 1024**2\n",
    "    print(f\"Memory usage of dataframe after reduction {end_memory} MB\")\n",
    "    print(f\"Reduced by {100 * (start_memory - end_memory) / start_memory} % \")\n",
    "    return df \n",
    "train = reduce_memory_usage(train)"
   ]
  },
  {
   "cell_type": "code",
   "execution_count": 5,
   "id": "2c5af02b",
   "metadata": {
    "execution": {
     "iopub.execute_input": "2021-09-13T14:58:36.463383Z",
     "iopub.status.busy": "2021-09-13T14:58:36.461829Z",
     "iopub.status.idle": "2021-09-13T14:58:36.464014Z",
     "shell.execute_reply": "2021-09-13T14:58:36.464415Z"
    },
    "papermill": {
     "duration": 0.038661,
     "end_time": "2021-09-13T14:58:36.464539",
     "exception": false,
     "start_time": "2021-09-13T14:58:36.425878",
     "status": "completed"
    },
    "tags": []
   },
   "outputs": [],
   "source": [
    "def seed_everything(seed=0):\n",
    "    random.seed(seed)\n",
    "    os.environ['PYTHONHASHSEED'] = str(seed)\n",
    "    np.random.seed(seed)\n",
    "    tf.random.set_seed(seed)\n",
    "seed_everything(seed=34)"
   ]
  },
  {
   "cell_type": "code",
   "execution_count": 6,
   "id": "a7c6b66d",
   "metadata": {
    "execution": {
     "iopub.execute_input": "2021-09-13T14:58:36.534332Z",
     "iopub.status.busy": "2021-09-13T14:58:36.533667Z",
     "iopub.status.idle": "2021-09-13T14:58:36.536865Z",
     "shell.execute_reply": "2021-09-13T14:58:36.536413Z"
    },
    "papermill": {
     "duration": 0.042717,
     "end_time": "2021-09-13T14:58:36.536974",
     "exception": false,
     "start_time": "2021-09-13T14:58:36.494257",
     "status": "completed"
    },
    "tags": []
   },
   "outputs": [],
   "source": [
    "\n",
    "def log_t(u, t):\n",
    "    epsilon = 1e-7\n",
    "    \"\"\"Compute log_t for `u`.\"\"\"\n",
    "    if t == 1.0:\n",
    "        return tf.math.log(u + epsilon)\n",
    "    else:\n",
    "        return (u**(1.0 - t) - 1.0) / (1.0 - t)\n",
    "\n",
    "def exp_t(u, t):\n",
    "    \"\"\"Compute exp_t for `u`.\"\"\"\n",
    "    if t == 1.0:\n",
    "        return tf.math.exp(u)\n",
    "    else:\n",
    "        return tf.math.maximum(0.0, 1.0 + (1.0 - t) * u) ** (1.0 / (1.0 - t))\n",
    "\n",
    "def compute_normalization_fixed_point(y_pred, t2, num_iters=5):\n",
    "    \"\"\"Returns the normalization value for each example (t > 1.0).\n",
    "    Args:\n",
    "    y_pred: A multi-dimensional tensor with last dimension `num_classes`.\n",
    "    t2: A temperature 2 (> 1.0 for tail heaviness).\n",
    "    num_iters: Number of iterations to run the method.\n",
    "    Return: A tensor of same rank as y_pred with the last dimension being 1.\n",
    "    \"\"\"\n",
    "    mu = tf.math.reduce_max(y_pred, -1, keepdims=True)\n",
    "    normalized_y_pred_step_0 = y_pred - mu\n",
    "    normalized_y_pred = normalized_y_pred_step_0\n",
    "    i = 0\n",
    "    while i < num_iters:\n",
    "        i += 1\n",
    "        logt_partition = tf.math.reduce_sum(exp_t(normalized_y_pred, t2),-1, keepdims=True)\n",
    "        normalized_y_pred = normalized_y_pred_step_0 * (logt_partition ** (1.0 - t2))\n",
    "  \n",
    "    logt_partition = tf.math.reduce_sum(exp_t(normalized_y_pred, t2), -1, keepdims=True)\n",
    "    return -log_t(1.0 / logt_partition, t2) + mu\n",
    "\n",
    "def compute_normalization(y_pred, t2, num_iters=5):\n",
    "    \"\"\"Returns the normalization value for each example.\n",
    "    Args:\n",
    "    y_pred: A multi-dimensional tensor with last dimension `num_classes`.\n",
    "    t2: A temperature 2 (< 1.0 for finite support, > 1.0 for tail heaviness).\n",
    "    num_iters: Number of iterations to run the method.\n",
    "    Return: A tensor of same rank as activation with the last dimension being 1.\n",
    "    \"\"\"\n",
    "    if t2 < 1.0:\n",
    "        return None # not implemented as these values do not occur in the authors experiments...\n",
    "    else:\n",
    "        return compute_normalization_fixed_point(y_pred, t2, num_iters)"
   ]
  },
  {
   "cell_type": "code",
   "execution_count": 7,
   "id": "cd3b9159",
   "metadata": {
    "execution": {
     "iopub.execute_input": "2021-09-13T14:58:36.605882Z",
     "iopub.status.busy": "2021-09-13T14:58:36.604480Z",
     "iopub.status.idle": "2021-09-13T14:58:36.606622Z",
     "shell.execute_reply": "2021-09-13T14:58:36.607099Z"
    },
    "papermill": {
     "duration": 0.040881,
     "end_time": "2021-09-13T14:58:36.607213",
     "exception": false,
     "start_time": "2021-09-13T14:58:36.566332",
     "status": "completed"
    },
    "tags": []
   },
   "outputs": [],
   "source": [
    "def bi_tempered_logistic_loss(y_pred, y_true, t1, label_smoothing=0.0):\n",
    "    \"\"\"Bi-Tempered Logistic Loss with custom gradient.\n",
    "    Args:\n",
    "    y_pred: A multi-dimensional probability tensor with last dimension `num_classes`.\n",
    "    y_true: A tensor with shape and dtype as y_pred.\n",
    "    t1: Temperature 1 (< 1.0 for boundedness).\n",
    "    label_smoothing: A float in [0, 1] for label smoothing.\n",
    "    Returns:\n",
    "    A loss tensor.\n",
    "    \"\"\"\n",
    "    y_pred = tf.cast(y_pred, tf.float32)\n",
    "    y_true = tf.cast(y_true, tf.float32)\n",
    "\n",
    "    if label_smoothing > 0.0:\n",
    "        num_classes = tf.cast(tf.shape(y_true)[-1], tf.float32)\n",
    "        y_true = (1 - num_classes /(num_classes - 1) * label_smoothing) * y_true + label_smoothing / (num_classes - 1)\n",
    "\n",
    "    temp1 = (log_t(y_true + 1e-7, t1) - log_t(y_pred, t1)) * y_true\n",
    "    temp2 = (1 / (2 - t1)) * (tf.math.pow(y_true, 2 - t1) - tf.math.pow(y_pred, 2 - t1))\n",
    "    loss_values = temp1 - temp2\n",
    "\n",
    "    return tf.math.reduce_sum(loss_values, -1)\n",
    "\n",
    "class BiTemperedLogisticLoss(tf.keras.losses.Loss):\n",
    "    def __init__(self, t1, label_smoothing=0.0):\n",
    "        super(BiTemperedLogisticLoss, self).__init__()\n",
    "        self.t1 = t1\n",
    "        self.label_smoothing = label_smoothing\n",
    "\n",
    "    def call(self, y_true, y_pred):\n",
    "        return bi_tempered_logistic_loss(y_pred, y_true, self.t1, self.label_smoothing)"
   ]
  },
  {
   "cell_type": "code",
   "execution_count": 8,
   "id": "a9b948a6",
   "metadata": {
    "execution": {
     "iopub.execute_input": "2021-09-13T14:58:36.674743Z",
     "iopub.status.busy": "2021-09-13T14:58:36.668804Z",
     "iopub.status.idle": "2021-09-13T14:58:36.686647Z",
     "shell.execute_reply": "2021-09-13T14:58:36.686225Z"
    },
    "papermill": {
     "duration": 0.04967,
     "end_time": "2021-09-13T14:58:36.686746",
     "exception": false,
     "start_time": "2021-09-13T14:58:36.637076",
     "status": "completed"
    },
    "tags": []
   },
   "outputs": [],
   "source": [
    "import numpy as np\n",
    "from sklearn.model_selection import KFold\n",
    "from sklearn.model_selection._split import _BaseKFold, indexable, _num_samples\n",
    "from sklearn.utils.validation import _deprecate_positional_args\n",
    "\n",
    "# modified code for group gaps; source\n",
    "# https://github.com/getgaurav2/scikit-learn/blob/d4a3af5cc9da3a76f0266932644b884c99724c57/sklearn/model_selection/_split.py#L2243\n",
    "class PurgedGroupTimeSeriesSplit(_BaseKFold):\n",
    "    \"\"\"Time Series cross-validator variant with non-overlapping groups.\n",
    "    Allows for a gap in groups to avoid potentially leaking info from\n",
    "    train into test if the model has windowed or lag features.\n",
    "    Provides train/test indices to split time series data samples\n",
    "    that are observed at fixed time intervals according to a\n",
    "    third-party provided group.\n",
    "    In each split, test indices must be higher than before, and thus shuffling\n",
    "    in cross validator is inappropriate.\n",
    "    This cross-validation object is a variation of :class:`KFold`.\n",
    "    In the kth split, it returns first k folds as train set and the\n",
    "    (k+1)th fold as test set.\n",
    "    The same group will not appear in two different folds (the number of\n",
    "    distinct groups has to be at least equal to the number of folds).\n",
    "    Note that unlike standard cross-validation methods, successive\n",
    "    training sets are supersets of those that come before them.\n",
    "    Read more in the :ref:`User Guide <cross_validation>`.\n",
    "    Parameters\n",
    "    ----------\n",
    "    n_splits : int, default=5\n",
    "        Number of splits. Must be at least 2.\n",
    "    max_train_group_size : int, default=Inf\n",
    "        Maximum group size for a single training set.\n",
    "    group_gap : int, default=None\n",
    "        Gap between train and test\n",
    "    max_test_group_size : int, default=Inf\n",
    "        We discard this number of groups from the end of each train split\n",
    "    \"\"\"\n",
    "\n",
    "    @_deprecate_positional_args\n",
    "    def __init__(self,\n",
    "                 n_splits=5,\n",
    "                 *,\n",
    "                 max_train_group_size=np.inf,\n",
    "                 max_test_group_size=np.inf,\n",
    "                 group_gap=None,\n",
    "                 verbose=False\n",
    "                 ):\n",
    "        super().__init__(n_splits, shuffle=False, random_state=None)\n",
    "        self.max_train_group_size = max_train_group_size\n",
    "        self.group_gap = group_gap\n",
    "        self.max_test_group_size = max_test_group_size\n",
    "        self.verbose = verbose\n",
    "\n",
    "    def split(self, X, y=None, groups=None):\n",
    "        \"\"\"Generate indices to split data into training and test set.\n",
    "        Parameters\n",
    "        ----------\n",
    "        X : array-like of shape (n_samples, n_features)\n",
    "            Training data, where n_samples is the number of samples\n",
    "            and n_features is the number of features.\n",
    "        y : array-like of shape (n_samples,)\n",
    "            Always ignored, exists for compatibility.\n",
    "        groups : array-like of shape (n_samples,)\n",
    "            Group labels for the samples used while splitting the dataset into\n",
    "            train/test set.\n",
    "        Yields\n",
    "        ------\n",
    "        train : ndarray\n",
    "            The training set indices for that split.\n",
    "        test : ndarray\n",
    "            The testing set indices for that split.\n",
    "        \"\"\"\n",
    "        if groups is None:\n",
    "            raise ValueError(\n",
    "                \"The 'groups' parameter should not be None\")\n",
    "        X, y, groups = indexable(X, y, groups)\n",
    "        n_samples = _num_samples(X)\n",
    "        n_splits = self.n_splits\n",
    "        group_gap = self.group_gap\n",
    "        max_test_group_size = self.max_test_group_size\n",
    "        max_train_group_size = self.max_train_group_size\n",
    "        n_folds = n_splits + 1\n",
    "        group_dict = {}\n",
    "        u, ind = np.unique(groups, return_index=True)\n",
    "        unique_groups = u[np.argsort(ind)]\n",
    "        n_samples = _num_samples(X)\n",
    "        n_groups = _num_samples(unique_groups)\n",
    "        for idx in np.arange(n_samples):\n",
    "            if (groups[idx] in group_dict):\n",
    "                group_dict[groups[idx]].append(idx)\n",
    "            else:\n",
    "                group_dict[groups[idx]] = [idx]\n",
    "        if n_folds > n_groups:\n",
    "            raise ValueError(\n",
    "                (\"Cannot have number of folds={0} greater than\"\n",
    "                 \" the number of groups={1}\").format(n_folds,\n",
    "                                                     n_groups))\n",
    "\n",
    "        group_test_size = min(n_groups // n_folds, max_test_group_size)\n",
    "        group_test_starts = range(n_groups - n_splits * group_test_size,\n",
    "                                  n_groups, group_test_size)\n",
    "        for group_test_start in group_test_starts:\n",
    "            train_array = []\n",
    "            test_array = []\n",
    "\n",
    "            group_st = max(0, group_test_start - group_gap - max_train_group_size)\n",
    "            for train_group_idx in unique_groups[group_st:(group_test_start - group_gap)]:\n",
    "                train_array_tmp = group_dict[train_group_idx]\n",
    "                \n",
    "                train_array = np.sort(np.unique(\n",
    "                                      np.concatenate((train_array,\n",
    "                                                      train_array_tmp)),\n",
    "                                      axis=None), axis=None)\n",
    "\n",
    "            train_end = train_array.size\n",
    " \n",
    "            for test_group_idx in unique_groups[group_test_start:\n",
    "                                                group_test_start +\n",
    "                                                group_test_size]:\n",
    "                test_array_tmp = group_dict[test_group_idx]\n",
    "                test_array = np.sort(np.unique(\n",
    "                                              np.concatenate((test_array,\n",
    "                                                              test_array_tmp)),\n",
    "                                     axis=None), axis=None)\n",
    "\n",
    "            test_array  = test_array[group_gap:]\n",
    "            \n",
    "            \n",
    "            if self.verbose > 0:\n",
    "                    pass\n",
    "                    \n",
    "            yield [int(i) for i in train_array], [int(i) for i in test_array]"
   ]
  },
  {
   "cell_type": "code",
   "execution_count": 9,
   "id": "cdb982b1",
   "metadata": {
    "execution": {
     "iopub.execute_input": "2021-09-13T14:58:36.749696Z",
     "iopub.status.busy": "2021-09-13T14:58:36.749171Z",
     "iopub.status.idle": "2021-09-13T14:58:36.752621Z",
     "shell.execute_reply": "2021-09-13T14:58:36.752243Z"
    },
    "papermill": {
     "duration": 0.036279,
     "end_time": "2021-09-13T14:58:36.752721",
     "exception": false,
     "start_time": "2021-09-13T14:58:36.716442",
     "status": "completed"
    },
    "tags": []
   },
   "outputs": [],
   "source": [
    "n_splits = 4\n",
    "group_gap = 20"
   ]
  },
  {
   "cell_type": "markdown",
   "id": "3ad8ed56",
   "metadata": {
    "papermill": {
     "duration": 0.029161,
     "end_time": "2021-09-13T14:58:36.811411",
     "exception": false,
     "start_time": "2021-09-13T14:58:36.782250",
     "status": "completed"
    },
    "tags": []
   },
   "source": [
    "# 1. Denoising Autoencoder (DAE) + MLP"
   ]
  },
  {
   "cell_type": "markdown",
   "id": "c29be7a9",
   "metadata": {
    "papermill": {
     "duration": 0.028993,
     "end_time": "2021-09-13T14:58:36.870510",
     "exception": false,
     "start_time": "2021-09-13T14:58:36.841517",
     "status": "completed"
    },
    "tags": []
   },
   "source": [
    "## Autoencoders with Swap Noise\n",
    "#### Copied from notebook https://www.kaggle.com/ottpocket/denoising-autoencoder-swap-noise/data"
   ]
  },
  {
   "cell_type": "code",
   "execution_count": 10,
   "id": "385c3318",
   "metadata": {
    "execution": {
     "iopub.execute_input": "2021-09-13T14:58:36.944741Z",
     "iopub.status.busy": "2021-09-13T14:58:36.942995Z",
     "iopub.status.idle": "2021-09-13T14:58:36.945369Z",
     "shell.execute_reply": "2021-09-13T14:58:36.945825Z"
    },
    "papermill": {
     "duration": 0.045731,
     "end_time": "2021-09-13T14:58:36.945949",
     "exception": false,
     "start_time": "2021-09-13T14:58:36.900218",
     "status": "completed"
    },
    "tags": []
   },
   "outputs": [],
   "source": [
    "class SwapNoise(tf.keras.utils.Sequence):\n",
    "    'Generates data for Keras'\n",
    "    def __init__(self, data, swap_perc = .15, batch_size = 128, shuffle=True):\n",
    "        'Initialization'\n",
    "        self.batch_size = batch_size\n",
    "        self.data = data\n",
    "        self.swap_perc = swap_perc\n",
    "\n",
    "        self.shuffle = shuffle\n",
    "        self.on_epoch_end()\n",
    "\n",
    "    def __len__(self):\n",
    "        'Denotes the number of batches per epoch'\n",
    "        return self.data.shape[0] // self.batch_size\n",
    "\n",
    "    def __getitem__(self, index):\n",
    "        'Generate one batch of data'\n",
    "        #Generate indexes of the batch\n",
    "        indices = [i for i in range(index*self.batch_size, (index+1)*self.batch_size)]\n",
    "        #print(indices)\n",
    "        noisy = self.swap_noise(self.data[indices])\n",
    "        \n",
    "        return (noisy), self.data[indices]\n",
    "\n",
    "    def on_epoch_end(self):\n",
    "        'Updates indexes after each epoch'\n",
    "        if self.shuffle == True:\n",
    "            np.random.shuffle(self.data)\n",
    "    def get_data(self):\n",
    "        return self.data\n",
    "    def swap_noise(self, temp):\n",
    "        'Generates data containing batch_size samples' \n",
    "        \n",
    "        # Add Swap_noise by row numerical features.\n",
    "        for index in range(temp.shape[0]):            \n",
    "            num_swaps = np.random.binomial(temp.shape[1], self.swap_perc, size=1)# how many swaps this row\n",
    "            if num_swaps ==0:\n",
    "                num_swaps=1\n",
    "            swap_rvs = np.random.normal(size=num_swaps) #new values to be swapped in \n",
    "            positions_in_row = np.random.choice(a= range(2,temp.shape[1]) , size=num_swaps, replace=False)# new positions to be swapped in\n",
    "            temp[index, positions_in_row] = swap_rvs#swapping\n",
    "\n",
    "\n",
    "        #Adding Noise by column for 'feature_0'.  These have distr of [0,1]\n",
    "        num_swaps = np.random.binomial(temp.shape[0], self.swap_perc, size=1)\n",
    "        if num_swaps ==0:\n",
    "            num_swaps=1\n",
    "        swap_rvs = np.random.choice(a= np.array([0,1]), size=num_swaps, replace=True) #new values to be swapped in \n",
    "        positions_in_col = np.random.choice(a= np.array(range(temp.shape[0])), size=num_swaps, replace=False)# new positions to be swapped in\n",
    "        temp[positions_in_col, 0] = swap_rvs#swapping new values for cp_time\n",
    "        #print(temp)\n",
    "        \n",
    "        return temp"
   ]
  },
  {
   "cell_type": "code",
   "execution_count": 11,
   "id": "69b3ac3b",
   "metadata": {
    "execution": {
     "iopub.execute_input": "2021-09-13T14:58:37.165804Z",
     "iopub.status.busy": "2021-09-13T14:58:37.165143Z",
     "iopub.status.idle": "2021-09-13T14:58:37.167887Z",
     "shell.execute_reply": "2021-09-13T14:58:37.168298Z"
    },
    "papermill": {
     "duration": 0.191819,
     "end_time": "2021-09-13T14:58:37.168441",
     "exception": false,
     "start_time": "2021-09-13T14:58:36.976622",
     "status": "completed"
    },
    "tags": []
   },
   "outputs": [
    {
     "data": {
      "text/plain": [
       "63"
      ]
     },
     "execution_count": 11,
     "metadata": {},
     "output_type": "execute_result"
    }
   ],
   "source": [
    "gc.collect()"
   ]
  },
  {
   "cell_type": "code",
   "execution_count": 12,
   "id": "77eb6b80",
   "metadata": {
    "execution": {
     "iopub.execute_input": "2021-09-13T14:58:37.241492Z",
     "iopub.status.busy": "2021-09-13T14:58:37.239898Z",
     "iopub.status.idle": "2021-09-13T14:58:37.242101Z",
     "shell.execute_reply": "2021-09-13T14:58:37.242528Z"
    },
    "papermill": {
     "duration": 0.044107,
     "end_time": "2021-09-13T14:58:37.242649",
     "exception": false,
     "start_time": "2021-09-13T14:58:37.198542",
     "status": "completed"
    },
    "tags": []
   },
   "outputs": [],
   "source": [
    "def create_dae(num_features):\n",
    "    \n",
    "    inp = tf.keras.layers.Input(shape = (num_features, ))\n",
    "    x = layers.BatchNormalization()(inp)\n",
    "    \n",
    "    x = layers.Dense(num_features, activation=\"swish\")(x)\n",
    "    x = layers.BatchNormalization()(x)\n",
    "    x = layers.Dense(num_features, activation=\"swish\")(x)\n",
    "    x = layers.BatchNormalization()(x)\n",
    "    x = layers.Dense(num_features, activation=\"swish\")(x)\n",
    "    x = layers.Dense(num_features * 0.75, activation=\"swish\")(x)\n",
    "    x = layers.BatchNormalization()(x)\n",
    "    x = layers.Dense(num_features * 0.75, activation=\"swish\")(x)\n",
    "    x = layers.BatchNormalization()(x)\n",
    "    x = layers.Dense(num_features * 0.5, activation=\"swish\")(x)\n",
    "    \n",
    "    y = layers.Dense(num_features * 0.75, activation=\"relu\")(x)\n",
    "    y = layers.BatchNormalization()(y)\n",
    "    y = layers.Dense(num_features * 0.75, activation=\"relu\")(x)\n",
    "    y = layers.BatchNormalization()(y)\n",
    "    y = layers.Dense(num_features, activation=\"relu\")(x)\n",
    "    y = layers.BatchNormalization()(y)\n",
    "    y = layers.Dense(num_features, activation=\"relu\")(x)\n",
    "    y = layers.BatchNormalization()(y)\n",
    "    y = layers.Dense(num_features, activation=\"relu\")(x)\n",
    "    y = layers.BatchNormalization()(y)\n",
    "    \n",
    "    out = layers.Dense(num_features, activation=\"linear\")(y)\n",
    "    loss = \"mse\"\n",
    "    encoder = Model(inputs=inp,outputs=x)\n",
    "    model = tf.keras.models.Model(inputs = inp, outputs = out)\n",
    "    model.compile(optimizer = tf.keras.optimizers.Adam(learning_rate = 1e-3), metrics=[\"mae\"],\n",
    "                  loss = loss,)\n",
    "    \n",
    "    return model, encoder"
   ]
  },
  {
   "cell_type": "code",
   "execution_count": 13,
   "id": "4e3e7bdd",
   "metadata": {
    "execution": {
     "iopub.execute_input": "2021-09-13T14:58:37.306340Z",
     "iopub.status.busy": "2021-09-13T14:58:37.305834Z",
     "iopub.status.idle": "2021-09-13T14:58:39.410990Z",
     "shell.execute_reply": "2021-09-13T14:58:39.411494Z"
    },
    "papermill": {
     "duration": 2.138787,
     "end_time": "2021-09-13T14:58:39.411643",
     "exception": false,
     "start_time": "2021-09-13T14:58:37.272856",
     "status": "completed"
    },
    "tags": []
   },
   "outputs": [
    {
     "name": "stderr",
     "output_type": "stream",
     "text": [
      "2021-09-13 14:58:37.341749: I tensorflow/compiler/jit/xla_cpu_device.cc:41] Not creating XLA devices, tf_xla_enable_xla_devices not set\n",
      "2021-09-13 14:58:37.347014: I tensorflow/stream_executor/platform/default/dso_loader.cc:49] Successfully opened dynamic library libcuda.so.1\n",
      "2021-09-13 14:58:37.388884: I tensorflow/stream_executor/cuda/cuda_gpu_executor.cc:941] successful NUMA node read from SysFS had negative value (-1), but there must be at least one NUMA node, so returning NUMA node zero\n",
      "2021-09-13 14:58:37.389567: I tensorflow/core/common_runtime/gpu/gpu_device.cc:1720] Found device 0 with properties: \n",
      "pciBusID: 0000:00:04.0 name: Tesla P100-PCIE-16GB computeCapability: 6.0\n",
      "coreClock: 1.3285GHz coreCount: 56 deviceMemorySize: 15.90GiB deviceMemoryBandwidth: 681.88GiB/s\n",
      "2021-09-13 14:58:37.389633: I tensorflow/stream_executor/platform/default/dso_loader.cc:49] Successfully opened dynamic library libcudart.so.11.0\n",
      "2021-09-13 14:58:37.420237: I tensorflow/stream_executor/platform/default/dso_loader.cc:49] Successfully opened dynamic library libcublas.so.11\n",
      "2021-09-13 14:58:37.420332: I tensorflow/stream_executor/platform/default/dso_loader.cc:49] Successfully opened dynamic library libcublasLt.so.11\n",
      "2021-09-13 14:58:37.439217: I tensorflow/stream_executor/platform/default/dso_loader.cc:49] Successfully opened dynamic library libcufft.so.10\n",
      "2021-09-13 14:58:37.487886: I tensorflow/stream_executor/platform/default/dso_loader.cc:49] Successfully opened dynamic library libcurand.so.10\n",
      "2021-09-13 14:58:37.528442: I tensorflow/stream_executor/platform/default/dso_loader.cc:49] Successfully opened dynamic library libcusolver.so.10\n",
      "2021-09-13 14:58:37.555873: I tensorflow/stream_executor/platform/default/dso_loader.cc:49] Successfully opened dynamic library libcusparse.so.11\n",
      "2021-09-13 14:58:37.558558: I tensorflow/stream_executor/platform/default/dso_loader.cc:49] Successfully opened dynamic library libcudnn.so.8\n",
      "2021-09-13 14:58:37.558753: I tensorflow/stream_executor/cuda/cuda_gpu_executor.cc:941] successful NUMA node read from SysFS had negative value (-1), but there must be at least one NUMA node, so returning NUMA node zero\n",
      "2021-09-13 14:58:37.559481: I tensorflow/stream_executor/cuda/cuda_gpu_executor.cc:941] successful NUMA node read from SysFS had negative value (-1), but there must be at least one NUMA node, so returning NUMA node zero\n",
      "2021-09-13 14:58:37.561224: I tensorflow/core/common_runtime/gpu/gpu_device.cc:1862] Adding visible gpu devices: 0\n",
      "2021-09-13 14:58:37.562481: I tensorflow/core/platform/cpu_feature_guard.cc:142] This TensorFlow binary is optimized with oneAPI Deep Neural Network Library (oneDNN) to use the following CPU instructions in performance-critical operations:  AVX2 AVX512F FMA\n",
      "To enable them in other operations, rebuild TensorFlow with the appropriate compiler flags.\n",
      "2021-09-13 14:58:37.562644: I tensorflow/compiler/jit/xla_gpu_device.cc:99] Not creating XLA devices, tf_xla_enable_xla_devices not set\n",
      "2021-09-13 14:58:37.562848: I tensorflow/stream_executor/cuda/cuda_gpu_executor.cc:941] successful NUMA node read from SysFS had negative value (-1), but there must be at least one NUMA node, so returning NUMA node zero\n",
      "2021-09-13 14:58:37.563451: I tensorflow/core/common_runtime/gpu/gpu_device.cc:1720] Found device 0 with properties: \n",
      "pciBusID: 0000:00:04.0 name: Tesla P100-PCIE-16GB computeCapability: 6.0\n",
      "coreClock: 1.3285GHz coreCount: 56 deviceMemorySize: 15.90GiB deviceMemoryBandwidth: 681.88GiB/s\n",
      "2021-09-13 14:58:37.563501: I tensorflow/stream_executor/platform/default/dso_loader.cc:49] Successfully opened dynamic library libcudart.so.11.0\n",
      "2021-09-13 14:58:37.563528: I tensorflow/stream_executor/platform/default/dso_loader.cc:49] Successfully opened dynamic library libcublas.so.11\n",
      "2021-09-13 14:58:37.563549: I tensorflow/stream_executor/platform/default/dso_loader.cc:49] Successfully opened dynamic library libcublasLt.so.11\n",
      "2021-09-13 14:58:37.563569: I tensorflow/stream_executor/platform/default/dso_loader.cc:49] Successfully opened dynamic library libcufft.so.10\n",
      "2021-09-13 14:58:37.563589: I tensorflow/stream_executor/platform/default/dso_loader.cc:49] Successfully opened dynamic library libcurand.so.10\n",
      "2021-09-13 14:58:37.563609: I tensorflow/stream_executor/platform/default/dso_loader.cc:49] Successfully opened dynamic library libcusolver.so.10\n",
      "2021-09-13 14:58:37.563630: I tensorflow/stream_executor/platform/default/dso_loader.cc:49] Successfully opened dynamic library libcusparse.so.11\n",
      "2021-09-13 14:58:37.563651: I tensorflow/stream_executor/platform/default/dso_loader.cc:49] Successfully opened dynamic library libcudnn.so.8\n",
      "2021-09-13 14:58:37.563747: I tensorflow/stream_executor/cuda/cuda_gpu_executor.cc:941] successful NUMA node read from SysFS had negative value (-1), but there must be at least one NUMA node, so returning NUMA node zero\n",
      "2021-09-13 14:58:37.564401: I tensorflow/stream_executor/cuda/cuda_gpu_executor.cc:941] successful NUMA node read from SysFS had negative value (-1), but there must be at least one NUMA node, so returning NUMA node zero\n",
      "2021-09-13 14:58:37.565002: I tensorflow/core/common_runtime/gpu/gpu_device.cc:1862] Adding visible gpu devices: 0\n",
      "2021-09-13 14:58:37.566150: I tensorflow/stream_executor/platform/default/dso_loader.cc:49] Successfully opened dynamic library libcudart.so.11.0\n",
      "2021-09-13 14:58:38.884602: I tensorflow/core/common_runtime/gpu/gpu_device.cc:1261] Device interconnect StreamExecutor with strength 1 edge matrix:\n",
      "2021-09-13 14:58:38.884648: I tensorflow/core/common_runtime/gpu/gpu_device.cc:1267]      0 \n",
      "2021-09-13 14:58:38.884659: I tensorflow/core/common_runtime/gpu/gpu_device.cc:1280] 0:   N \n",
      "2021-09-13 14:58:38.887170: I tensorflow/stream_executor/cuda/cuda_gpu_executor.cc:941] successful NUMA node read from SysFS had negative value (-1), but there must be at least one NUMA node, so returning NUMA node zero\n",
      "2021-09-13 14:58:38.887952: I tensorflow/stream_executor/cuda/cuda_gpu_executor.cc:941] successful NUMA node read from SysFS had negative value (-1), but there must be at least one NUMA node, so returning NUMA node zero\n",
      "2021-09-13 14:58:38.888669: I tensorflow/stream_executor/cuda/cuda_gpu_executor.cc:941] successful NUMA node read from SysFS had negative value (-1), but there must be at least one NUMA node, so returning NUMA node zero\n",
      "2021-09-13 14:58:38.889348: I tensorflow/core/common_runtime/gpu/gpu_device.cc:1406] Created TensorFlow device (/job:localhost/replica:0/task:0/device:GPU:0 with 14957 MB memory) -> physical GPU (device: 0, name: Tesla P100-PCIE-16GB, pci bus id: 0000:00:04.0, compute capability: 6.0)\n"
     ]
    }
   ],
   "source": [
    "# train_swap, test_swap, _, _ = train_test_split(X, X, test_size=0.2, random_state=42)\n",
    "# batch_size = 4096\n",
    "# train_gen = SwapNoise(train_swap.to_numpy(), swap_perc = .3, batch_size = batch_size, shuffle=True)\n",
    "# val_gen = SwapNoise(test_swap.to_numpy(), swap_perc = .3, batch_size = batch_size, shuffle=True)\n",
    "model, x = create_dae(X.shape[1])\n",
    "# model.fit(train_gen, validation_data=val_gen, epochs=100, callbacks=[EarlyStopping(monitor = 'val_loss', min_delta = 1e-4, patience = 5, mode = 'min', \n",
    "#                        baseline = None, restore_best_weights = True, verbose = 0)])\n",
    "# x.save_weights(\"js-dae.h5\")"
   ]
  },
  {
   "cell_type": "code",
   "execution_count": 14,
   "id": "4aabd81b",
   "metadata": {
    "execution": {
     "iopub.execute_input": "2021-09-13T14:58:39.498381Z",
     "iopub.status.busy": "2021-09-13T14:58:39.497855Z",
     "iopub.status.idle": "2021-09-13T14:58:39.556414Z",
     "shell.execute_reply": "2021-09-13T14:58:39.557064Z"
    },
    "papermill": {
     "duration": 0.114346,
     "end_time": "2021-09-13T14:58:39.557208",
     "exception": false,
     "start_time": "2021-09-13T14:58:39.442862",
     "status": "completed"
    },
    "tags": []
   },
   "outputs": [],
   "source": [
    "x.load_weights(\"../input/jsautoencoderweights/js-dae.h5\")"
   ]
  },
  {
   "cell_type": "code",
   "execution_count": 15,
   "id": "f7e7c9d4",
   "metadata": {
    "execution": {
     "iopub.execute_input": "2021-09-13T14:58:39.623319Z",
     "iopub.status.busy": "2021-09-13T14:58:39.622348Z",
     "iopub.status.idle": "2021-09-13T14:58:39.625431Z",
     "shell.execute_reply": "2021-09-13T14:58:39.624960Z"
    },
    "papermill": {
     "duration": 0.037797,
     "end_time": "2021-09-13T14:58:39.625549",
     "exception": false,
     "start_time": "2021-09-13T14:58:39.587752",
     "status": "completed"
    },
    "tags": []
   },
   "outputs": [],
   "source": [
    "x.trainable = False"
   ]
  },
  {
   "cell_type": "code",
   "execution_count": 16,
   "id": "1e45a629",
   "metadata": {
    "execution": {
     "iopub.execute_input": "2021-09-13T14:58:39.691989Z",
     "iopub.status.busy": "2021-09-13T14:58:39.691326Z",
     "iopub.status.idle": "2021-09-13T14:58:39.693557Z",
     "shell.execute_reply": "2021-09-13T14:58:39.694075Z"
    },
    "papermill": {
     "duration": 0.036507,
     "end_time": "2021-09-13T14:58:39.694201",
     "exception": false,
     "start_time": "2021-09-13T14:58:39.657694",
     "status": "completed"
    },
    "tags": []
   },
   "outputs": [],
   "source": [
    "# del train_swap, test_swap, _, model"
   ]
  },
  {
   "cell_type": "markdown",
   "id": "8c9d57a7",
   "metadata": {
    "papermill": {
     "duration": 0.031387,
     "end_time": "2021-09-13T14:58:39.756102",
     "exception": false,
     "start_time": "2021-09-13T14:58:39.724715",
     "status": "completed"
    },
    "tags": []
   },
   "source": [
    "## DAE + MLP Training"
   ]
  },
  {
   "cell_type": "code",
   "execution_count": 17,
   "id": "12ab9c19",
   "metadata": {
    "_kg_hide-input": true,
    "execution": {
     "iopub.execute_input": "2021-09-13T14:58:39.831312Z",
     "iopub.status.busy": "2021-09-13T14:58:39.830527Z",
     "iopub.status.idle": "2021-09-13T14:58:39.832709Z",
     "shell.execute_reply": "2021-09-13T14:58:39.833412Z"
    },
    "papermill": {
     "duration": 0.046727,
     "end_time": "2021-09-13T14:58:39.833539",
     "exception": false,
     "start_time": "2021-09-13T14:58:39.786812",
     "status": "completed"
    },
    "tags": []
   },
   "outputs": [],
   "source": [
    "def create_dae_mlp(num_columns, num_labels, dropout_rates, label_smoothing, learning_rate, encoder):\n",
    "\n",
    "    inp1 = tf.keras.layers.Input(shape = (num_columns, ))\n",
    "    encoder = encoder(inp1)\n",
    "    x = layers.Concatenate()([encoder, inp1])\n",
    "    x = layers.BatchNormalization()(x)\n",
    "    x = layers.Dropout(dropout_rates[0])(x)\n",
    "    \n",
    "    #First Stem\n",
    "    x1 = layers.Dense(81)(x)\n",
    "    x1 = layers.BatchNormalization()(x1)\n",
    "    x1 = layers.Activation(\"swish\")(x1)\n",
    "    x1 = layers.Dropout(0.25)(x1)\n",
    "    \n",
    "    b3 = layers.Dense(78)(x1)\n",
    "    b3 = layers.BatchNormalization()(b3)\n",
    "    b3 = layers.Activation(\"swish\")(b3)\n",
    "    \n",
    "    \n",
    "    #Second Stem\n",
    "    x2 = layers.Dense(114)(x)\n",
    "    x2 = layers.BatchNormalization()(x2)\n",
    "    x2 = layers.Activation(\"swish\")(x2)\n",
    "    x2 = layers.Dropout(0.25)(x2)\n",
    "    \n",
    "    b1 = layers.Dense(76)(x2)\n",
    "    b1 = layers.BatchNormalization()(b1)\n",
    "    b1 = layers.Activation(\"swish\")(b1)\n",
    "    \n",
    "    #First Concat\n",
    "    b2 = layers.Concatenate()([x2, x1])\n",
    "    b2 = layers.Activation(\"swish\")(b2) \n",
    "    b2 = layers.Dropout(0.25)(b2)\n",
    "    \n",
    "    #Second Concat\n",
    "    c1 = layers.Concatenate()([b1, b2])\n",
    "    c1 = layers.Activation(\"swish\")(c1) \n",
    "    c1 = layers.Dropout(0.2)(c1)\n",
    "    \n",
    "    \n",
    "    #Final Layer\n",
    "    z = layers.Concatenate()([b3, c1])\n",
    "    z = layers.Activation(\"swish\")(z)\n",
    "    z = layers.Dropout(0.25)(z)\n",
    "    \n",
    "    \n",
    "    x = tf.keras.layers.Dense(num_labels)(z)\n",
    "    out = tf.keras.layers.Activation('sigmoid')(x)\n",
    "    \n",
    "    model = tf.keras.models.Model(inputs = inp1, outputs = out)\n",
    "    model.compile(optimizer = tf.keras.optimizers.Adam(learning_rate = learning_rate,),\n",
    "                  loss = tf.keras.losses.BinaryCrossentropy(label_smoothing = label_smoothing), \n",
    "                  metrics = [tf.keras.metrics.AUC(multi_label=True, name=\"AUC\")], \n",
    "                 )\n",
    "    \n",
    "    return model"
   ]
  },
  {
   "cell_type": "code",
   "execution_count": 18,
   "id": "19cc6337",
   "metadata": {
    "execution": {
     "iopub.execute_input": "2021-09-13T14:58:39.906580Z",
     "iopub.status.busy": "2021-09-13T14:58:39.905300Z",
     "iopub.status.idle": "2021-09-13T15:03:01.866026Z",
     "shell.execute_reply": "2021-09-13T15:03:01.865459Z"
    },
    "papermill": {
     "duration": 262.002237,
     "end_time": "2021-09-13T15:03:01.866194",
     "exception": false,
     "start_time": "2021-09-13T14:58:39.863957",
     "status": "completed"
    },
    "tags": []
   },
   "outputs": [
    {
     "name": "stderr",
     "output_type": "stream",
     "text": [
      "2021-09-13 14:58:44.823591: I tensorflow/compiler/mlir/mlir_graph_optimization_pass.cc:116] None of the MLIR optimization passes are enabled (registered 2)\n",
      "2021-09-13 14:58:44.834798: I tensorflow/core/platform/profile_utils/cpu_utils.cc:112] CPU Frequency: 2000189999 Hz\n"
     ]
    },
    {
     "name": "stdout",
     "output_type": "stream",
     "text": [
      "Epoch 1/1000\n"
     ]
    },
    {
     "name": "stderr",
     "output_type": "stream",
     "text": [
      "2021-09-13 14:58:47.234723: I tensorflow/stream_executor/platform/default/dso_loader.cc:49] Successfully opened dynamic library libcublas.so.11\n"
     ]
    },
    {
     "name": "stdout",
     "output_type": "stream",
     "text": [
      "11/93 [==>...........................] - ETA: 0s - loss: 0.0149 - AUC: 0.4986"
     ]
    },
    {
     "name": "stderr",
     "output_type": "stream",
     "text": [
      "2021-09-13 14:58:47.961513: I tensorflow/stream_executor/platform/default/dso_loader.cc:49] Successfully opened dynamic library libcublasLt.so.11\n"
     ]
    },
    {
     "name": "stdout",
     "output_type": "stream",
     "text": [
      "93/93 [==============================] - 6s 32ms/step - loss: 0.0139 - AUC: 0.5093 - val_loss: 0.6938 - val_AUC: 0.5232\n",
      "Epoch 2/1000\n",
      "93/93 [==============================] - 2s 17ms/step - loss: 0.0128 - AUC: 0.5266 - val_loss: 0.6924 - val_AUC: 0.5291\n",
      "Epoch 3/1000\n",
      "93/93 [==============================] - 2s 17ms/step - loss: 0.0127 - AUC: 0.5349 - val_loss: 0.6923 - val_AUC: 0.5311\n",
      "Epoch 4/1000\n",
      "93/93 [==============================] - 2s 17ms/step - loss: 0.0126 - AUC: 0.5397 - val_loss: 0.6936 - val_AUC: 0.5301\n",
      "Epoch 5/1000\n",
      "93/93 [==============================] - 2s 19ms/step - loss: 0.0125 - AUC: 0.5455 - val_loss: 0.6949 - val_AUC: 0.5282\n",
      "Epoch 6/1000\n",
      "93/93 [==============================] - 2s 17ms/step - loss: 0.0124 - AUC: 0.5480 - val_loss: 0.6953 - val_AUC: 0.5286\n",
      "Epoch 7/1000\n",
      "93/93 [==============================] - 2s 17ms/step - loss: 0.0124 - AUC: 0.5498 - val_loss: 0.6951 - val_AUC: 0.5300\n",
      "Epoch 8/1000\n",
      "93/93 [==============================] - 2s 19ms/step - loss: 0.0123 - AUC: 0.5499 - val_loss: 0.6955 - val_AUC: 0.5296\n",
      "Epoch 9/1000\n",
      "93/93 [==============================] - 2s 18ms/step - loss: 0.0123 - AUC: 0.5548 - val_loss: 0.6958 - val_AUC: 0.5295\n",
      "Epoch 10/1000\n",
      "93/93 [==============================] - 2s 17ms/step - loss: 0.0123 - AUC: 0.5530 - val_loss: 0.6960 - val_AUC: 0.5297\n"
     ]
    },
    {
     "name": "stderr",
     "output_type": "stream",
     "text": [
      "2021-09-13 14:59:17.929810: W tensorflow/core/framework/cpu_allocator_impl.cc:80] Allocation of 726209120 exceeds 10% of free system memory.\n"
     ]
    },
    {
     "name": "stdout",
     "output_type": "stream",
     "text": [
      "Epoch 1/1000\n",
      "171/171 [==============================] - 6s 21ms/step - loss: 0.0125 - AUC: 0.5133 - val_loss: 0.6912 - val_AUC: 0.5342\n",
      "Epoch 2/1000\n",
      "171/171 [==============================] - 3s 15ms/step - loss: 0.0115 - AUC: 0.5316 - val_loss: 0.6908 - val_AUC: 0.5359\n",
      "Epoch 3/1000\n",
      "171/171 [==============================] - 3s 16ms/step - loss: 0.0114 - AUC: 0.5374 - val_loss: 0.6912 - val_AUC: 0.5364\n",
      "Epoch 4/1000\n",
      "171/171 [==============================] - 2s 15ms/step - loss: 0.0114 - AUC: 0.5414 - val_loss: 0.6915 - val_AUC: 0.5365\n",
      "Epoch 5/1000\n",
      "171/171 [==============================] - 3s 15ms/step - loss: 0.0113 - AUC: 0.5434 - val_loss: 0.6918 - val_AUC: 0.5362\n",
      "Epoch 6/1000\n",
      "171/171 [==============================] - 3s 15ms/step - loss: 0.0113 - AUC: 0.5456 - val_loss: 0.6923 - val_AUC: 0.5349\n",
      "Epoch 7/1000\n",
      "171/171 [==============================] - 3s 15ms/step - loss: 0.0112 - AUC: 0.5474 - val_loss: 0.6927 - val_AUC: 0.5353\n",
      "Epoch 8/1000\n",
      "171/171 [==============================] - 3s 16ms/step - loss: 0.0112 - AUC: 0.5488 - val_loss: 0.6923 - val_AUC: 0.5364\n",
      "Epoch 9/1000\n",
      "171/171 [==============================] - 3s 17ms/step - loss: 0.0112 - AUC: 0.5498 - val_loss: 0.6924 - val_AUC: 0.5370\n",
      "Epoch 10/1000\n",
      "171/171 [==============================] - 3s 15ms/step - loss: 0.0112 - AUC: 0.5509 - val_loss: 0.6928 - val_AUC: 0.5363\n",
      "Epoch 11/1000\n",
      "171/171 [==============================] - 3s 15ms/step - loss: 0.0112 - AUC: 0.5520 - val_loss: 0.6924 - val_AUC: 0.5368\n",
      "Epoch 12/1000\n",
      "171/171 [==============================] - 3s 16ms/step - loss: 0.0111 - AUC: 0.5513 - val_loss: 0.6927 - val_AUC: 0.5361\n",
      "Epoch 13/1000\n",
      "171/171 [==============================] - 2s 15ms/step - loss: 0.0112 - AUC: 0.5527 - val_loss: 0.6927 - val_AUC: 0.5362\n",
      "Epoch 14/1000\n",
      "171/171 [==============================] - 3s 15ms/step - loss: 0.0111 - AUC: 0.5518 - val_loss: 0.6928 - val_AUC: 0.5360\n",
      "Epoch 15/1000\n",
      "171/171 [==============================] - 3s 15ms/step - loss: 0.0112 - AUC: 0.5519 - val_loss: 0.6928 - val_AUC: 0.5361\n",
      "Epoch 16/1000\n",
      "171/171 [==============================] - 3s 16ms/step - loss: 0.0111 - AUC: 0.5528 - val_loss: 0.6928 - val_AUC: 0.5361\n"
     ]
    },
    {
     "name": "stderr",
     "output_type": "stream",
     "text": [
      "2021-09-13 15:00:20.136012: W tensorflow/core/framework/cpu_allocator_impl.cc:80] Allocation of 1107409680 exceeds 10% of free system memory.\n"
     ]
    },
    {
     "name": "stdout",
     "output_type": "stream",
     "text": [
      "Epoch 1/1000\n",
      "260/260 [==============================] - 8s 19ms/step - loss: 0.0121 - AUC: 0.5132 - val_loss: 0.6914 - val_AUC: 0.5326\n",
      "Epoch 2/1000\n",
      "260/260 [==============================] - 4s 14ms/step - loss: 0.0114 - AUC: 0.5319 - val_loss: 0.6917 - val_AUC: 0.5321\n",
      "Epoch 3/1000\n",
      "260/260 [==============================] - 4s 15ms/step - loss: 0.0114 - AUC: 0.5385 - val_loss: 0.6916 - val_AUC: 0.5338\n",
      "Epoch 4/1000\n",
      "260/260 [==============================] - 4s 14ms/step - loss: 0.0113 - AUC: 0.5420 - val_loss: 0.6915 - val_AUC: 0.5346\n",
      "Epoch 5/1000\n",
      "260/260 [==============================] - 4s 14ms/step - loss: 0.0113 - AUC: 0.5436 - val_loss: 0.6927 - val_AUC: 0.5322\n",
      "Epoch 6/1000\n",
      "260/260 [==============================] - 4s 15ms/step - loss: 0.0113 - AUC: 0.5453 - val_loss: 0.6924 - val_AUC: 0.5324\n",
      "Epoch 7/1000\n",
      "260/260 [==============================] - 4s 14ms/step - loss: 0.0112 - AUC: 0.5468 - val_loss: 0.6931 - val_AUC: 0.5333\n",
      "Epoch 8/1000\n",
      "260/260 [==============================] - 4s 15ms/step - loss: 0.0112 - AUC: 0.5501 - val_loss: 0.6924 - val_AUC: 0.5341\n",
      "Epoch 9/1000\n",
      "260/260 [==============================] - 4s 16ms/step - loss: 0.0112 - AUC: 0.5498 - val_loss: 0.6926 - val_AUC: 0.5338\n",
      "Epoch 10/1000\n",
      "260/260 [==============================] - 4s 14ms/step - loss: 0.0111 - AUC: 0.5504 - val_loss: 0.6927 - val_AUC: 0.5336\n",
      "Epoch 11/1000\n",
      "260/260 [==============================] - 4s 14ms/step - loss: 0.0111 - AUC: 0.5514 - val_loss: 0.6928 - val_AUC: 0.5338\n"
     ]
    },
    {
     "name": "stderr",
     "output_type": "stream",
     "text": [
      "2021-09-13 15:01:28.690079: W tensorflow/core/framework/cpu_allocator_impl.cc:80] Allocation of 1517381840 exceeds 10% of free system memory.\n"
     ]
    },
    {
     "name": "stdout",
     "output_type": "stream",
     "text": [
      "Epoch 1/1000\n",
      "357/357 [==============================] - 9s 17ms/step - loss: 0.0119 - AUC: 0.5133 - val_loss: 0.6902 - val_AUC: 0.5410\n",
      "Epoch 2/1000\n",
      "357/357 [==============================] - 5s 14ms/step - loss: 0.0112 - AUC: 0.5320 - val_loss: 0.6902 - val_AUC: 0.5416\n",
      "Epoch 3/1000\n",
      "357/357 [==============================] - 5s 13ms/step - loss: 0.0112 - AUC: 0.5386 - val_loss: 0.6903 - val_AUC: 0.5419\n",
      "Epoch 4/1000\n",
      "357/357 [==============================] - 5s 14ms/step - loss: 0.0112 - AUC: 0.5405 - val_loss: 0.6901 - val_AUC: 0.5439\n",
      "Epoch 5/1000\n",
      "357/357 [==============================] - 5s 13ms/step - loss: 0.0111 - AUC: 0.5429 - val_loss: 0.6901 - val_AUC: 0.5439\n",
      "Epoch 6/1000\n",
      "357/357 [==============================] - 5s 15ms/step - loss: 0.0111 - AUC: 0.5438 - val_loss: 0.6906 - val_AUC: 0.5429\n",
      "Epoch 7/1000\n",
      "357/357 [==============================] - 5s 14ms/step - loss: 0.0111 - AUC: 0.5447 - val_loss: 0.6908 - val_AUC: 0.5430\n",
      "Epoch 8/1000\n",
      "357/357 [==============================] - 5s 13ms/step - loss: 0.0110 - AUC: 0.5465 - val_loss: 0.6907 - val_AUC: 0.5442\n",
      "Epoch 9/1000\n",
      "357/357 [==============================] - 5s 14ms/step - loss: 0.0111 - AUC: 0.5479 - val_loss: 0.6906 - val_AUC: 0.5445\n",
      "Epoch 10/1000\n",
      "357/357 [==============================] - 5s 13ms/step - loss: 0.0110 - AUC: 0.5484 - val_loss: 0.6909 - val_AUC: 0.5440\n",
      "Epoch 11/1000\n",
      "357/357 [==============================] - 5s 14ms/step - loss: 0.0110 - AUC: 0.5483 - val_loss: 0.6910 - val_AUC: 0.5437\n",
      "Epoch 12/1000\n",
      "357/357 [==============================] - 5s 13ms/step - loss: 0.0110 - AUC: 0.5485 - val_loss: 0.6909 - val_AUC: 0.5437\n",
      "Epoch 13/1000\n",
      "357/357 [==============================] - 6s 16ms/step - loss: 0.0110 - AUC: 0.5485 - val_loss: 0.6910 - val_AUC: 0.5436\n",
      "Epoch 14/1000\n",
      "357/357 [==============================] - 5s 14ms/step - loss: 0.0110 - AUC: 0.5484 - val_loss: 0.6910 - val_AUC: 0.5438\n",
      "Epoch 15/1000\n",
      "357/357 [==============================] - 5s 14ms/step - loss: 0.0110 - AUC: 0.5489 - val_loss: 0.6910 - val_AUC: 0.5437\n",
      "Epoch 16/1000\n",
      "357/357 [==============================] - 5s 13ms/step - loss: 0.0110 - AUC: 0.5496 - val_loss: 0.6911 - val_AUC: 0.5437\n"
     ]
    }
   ],
   "source": [
    "batch_size = 4096\n",
    "dropout_rates = [0.0]\n",
    "label_smoothing = 1e-2\n",
    "learning_rate = 1e-3\n",
    "\n",
    "\n",
    "oof1 = np.zeros(y.shape)\n",
    "gkf = PurgedGroupTimeSeriesSplit(n_splits = n_splits, group_gap = group_gap)\n",
    "for fold, (tr, te) in enumerate(gkf.split(train['action'].values, train['action'].values, train['date'].values)):\n",
    "    \n",
    "    X_tr, X_val = X.loc[tr, :], X.loc[te, :]\n",
    "    y_tr, y_val = y[tr], y[te]\n",
    "    \n",
    "    ckp_path = f'JSModel_dae{fold}.hdf5'\n",
    "    model = create_dae_mlp(X_tr.shape[1], 5, dropout_rates, label_smoothing, learning_rate, x)\n",
    "    rlr = ReduceLROnPlateau(monitor = 'val_AUC', factor = 0.15, patience = 3, verbose = 0, \n",
    "                                min_delta = 1e-4, mode = 'max')\n",
    "    ckp = ModelCheckpoint(ckp_path, monitor = 'val_AUC', verbose = 0, \n",
    "                            save_best_only = True, save_weights_only = True, mode = 'max')\n",
    "    es = EarlyStopping(monitor = 'val_AUC', min_delta = 1e-4, patience = 7, mode = 'max', \n",
    "                        baseline = None, restore_best_weights = True, verbose = 0)\n",
    "    model.fit(X_tr, y_tr, validation_data = (X_val, y_val), epochs = 1000, \n",
    "                batch_size = batch_size, callbacks = [rlr, ckp, es], verbose = 1, sample_weight = weighted_values.loc[tr])\n",
    "                \n",
    "    oof1[te] = model.predict(X_val, batch_size = batch_size * 4)\n",
    "    \n",
    "    # Finetune 3 epochs on validation set with small learning rate\n",
    "    model = create_dae_mlp(X_tr.shape[1], 5, dropout_rates, label_smoothing, learning_rate / 100, x)\n",
    "    model.load_weights(ckp_path)\n",
    "    model.fit(X_val, y_val, epochs = 3, batch_size = batch_size, verbose = 0)\n",
    "    model.save_weights(ckp_path)\n",
    "    \n",
    "    K.clear_session()\n",
    "    del model\n",
    "    rubbish = gc.collect()"
   ]
  },
  {
   "cell_type": "code",
   "execution_count": 19,
   "id": "a3b84248",
   "metadata": {
    "execution": {
     "iopub.execute_input": "2021-09-13T15:03:03.331488Z",
     "iopub.status.busy": "2021-09-13T15:03:03.330584Z",
     "iopub.status.idle": "2021-09-13T15:03:05.992614Z",
     "shell.execute_reply": "2021-09-13T15:03:05.992178Z"
    },
    "papermill": {
     "duration": 3.422658,
     "end_time": "2021-09-13T15:03:05.992743",
     "exception": false,
     "start_time": "2021-09-13T15:03:02.570085",
     "status": "completed"
    },
    "tags": []
   },
   "outputs": [
    {
     "name": "stdout",
     "output_type": "stream",
     "text": [
      "0.5176115036498\n"
     ]
    }
   ],
   "source": [
    "score_oof = roc_auc_score(y, oof1)\n",
    "print(score_oof)"
   ]
  },
  {
   "cell_type": "markdown",
   "id": "94e87682",
   "metadata": {
    "papermill": {
     "duration": 0.701855,
     "end_time": "2021-09-13T15:03:07.425842",
     "exception": false,
     "start_time": "2021-09-13T15:03:06.723987",
     "status": "completed"
    },
    "tags": []
   },
   "source": [
    "# 2. Non Linear Topology MLP"
   ]
  },
  {
   "cell_type": "code",
   "execution_count": 20,
   "id": "465f7f3d",
   "metadata": {
    "execution": {
     "iopub.execute_input": "2021-09-13T15:03:08.852082Z",
     "iopub.status.busy": "2021-09-13T15:03:08.851346Z",
     "iopub.status.idle": "2021-09-13T15:03:08.853796Z",
     "shell.execute_reply": "2021-09-13T15:03:08.856992Z"
    },
    "papermill": {
     "duration": 0.72927,
     "end_time": "2021-09-13T15:03:08.857136",
     "exception": false,
     "start_time": "2021-09-13T15:03:08.127866",
     "status": "completed"
    },
    "tags": []
   },
   "outputs": [],
   "source": [
    "seed_everything(seed=34)"
   ]
  },
  {
   "cell_type": "code",
   "execution_count": 21,
   "id": "5bb75b8f",
   "metadata": {
    "execution": {
     "iopub.execute_input": "2021-09-13T15:03:10.494471Z",
     "iopub.status.busy": "2021-09-13T15:03:10.493591Z",
     "iopub.status.idle": "2021-09-13T15:03:10.495806Z",
     "shell.execute_reply": "2021-09-13T15:03:10.496345Z"
    },
    "papermill": {
     "duration": 0.707583,
     "end_time": "2021-09-13T15:03:10.496501",
     "exception": false,
     "start_time": "2021-09-13T15:03:09.788918",
     "status": "completed"
    },
    "tags": []
   },
   "outputs": [],
   "source": [
    "def create_non_linear_mlp(num_columns, num_labels, dropout_rates, label_smoothing, learning_rate,):\n",
    "\n",
    "    inp = tf.keras.layers.Input(shape = (num_columns, ))\n",
    "#     encoder = encoder(inp)\n",
    "#     x = layers.Concatenate()([inp, encoder])\n",
    "    x = layers.BatchNormalization()(inp)\n",
    "    x = layers.Dropout(dropout_rates[0])(x)\n",
    "    \n",
    "    #First Stem\n",
    "    x1 = layers.Dense(81)(x)\n",
    "    x1 = layers.BatchNormalization()(x1)\n",
    "    x1 = layers.Activation(\"swish\")(x1)\n",
    "    x1 = layers.Dropout(0.25)(x1)\n",
    "    \n",
    "    b3 = layers.Dense(78)(x1)\n",
    "    b3 = layers.BatchNormalization()(b3)\n",
    "    b3 = layers.Activation(\"swish\")(b3)\n",
    "    \n",
    "    \n",
    "    #Second Stem\n",
    "    x2 = layers.Dense(114)(x)\n",
    "    x2 = layers.BatchNormalization()(x2)\n",
    "    x2 = layers.Activation(\"swish\")(x2)\n",
    "    x2 = layers.Dropout(0.25)(x2)\n",
    "    \n",
    "    b1 = layers.Dense(76)(x2)\n",
    "    b1 = layers.BatchNormalization()(b1)\n",
    "    b1 = layers.Activation(\"swish\")(b1)\n",
    "    \n",
    "    #First Concat\n",
    "    b2 = layers.Concatenate()([x2, x1])\n",
    "    b2 = layers.Activation(\"swish\")(b2) \n",
    "    b2 = layers.Dropout(0.25)(b2)\n",
    "    \n",
    "    #Second Concat\n",
    "    c1 = layers.Concatenate()([b1, b2])\n",
    "    c1 = layers.Activation(\"swish\")(c1) \n",
    "    c1 = layers.Dropout(0.2)(c1)\n",
    "    \n",
    "    \n",
    "    #Final Layer\n",
    "    z = layers.Concatenate()([b3, c1])\n",
    "    z = layers.Activation(\"swish\")(z)\n",
    "    z = layers.Dropout(0.25)(z)\n",
    "    \n",
    "    \n",
    "    x = tf.keras.layers.Dense(num_labels)(z)\n",
    "    out = tf.keras.layers.Activation('sigmoid')(x)\n",
    "    \n",
    "    model = tf.keras.models.Model(inputs = inp, outputs = out)\n",
    "    model.compile(optimizer = tf.keras.optimizers.Adam(learning_rate = learning_rate,),\n",
    "                  loss = tf.keras.losses.BinaryCrossentropy(label_smoothing = label_smoothing), \n",
    "                  metrics = [tf.keras.metrics.AUC(multi_label=True, name=\"AUC\")], \n",
    "                 )\n",
    "    \n",
    "    return model"
   ]
  },
  {
   "cell_type": "markdown",
   "id": "4a388eab",
   "metadata": {
    "papermill": {
     "duration": 0.698578,
     "end_time": "2021-09-13T15:03:11.892410",
     "exception": false,
     "start_time": "2021-09-13T15:03:11.193832",
     "status": "completed"
    },
    "tags": []
   },
   "source": [
    "## MLP Inference"
   ]
  },
  {
   "cell_type": "code",
   "execution_count": 22,
   "id": "8405de56",
   "metadata": {
    "execution": {
     "iopub.execute_input": "2021-09-13T15:03:13.509583Z",
     "iopub.status.busy": "2021-09-13T15:03:13.508694Z",
     "iopub.status.idle": "2021-09-13T15:03:13.516205Z",
     "shell.execute_reply": "2021-09-13T15:03:13.516716Z"
    },
    "papermill": {
     "duration": 0.919583,
     "end_time": "2021-09-13T15:03:13.516906",
     "exception": false,
     "start_time": "2021-09-13T15:03:12.597323",
     "status": "completed"
    },
    "tags": []
   },
   "outputs": [
    {
     "data": {
      "text/plain": [
       "3120"
      ]
     },
     "execution_count": 22,
     "metadata": {},
     "output_type": "execute_result"
    }
   ],
   "source": [
    "gc.collect()"
   ]
  },
  {
   "cell_type": "code",
   "execution_count": 23,
   "id": "422f5b26",
   "metadata": {
    "_kg_hide-input": true,
    "execution": {
     "iopub.execute_input": "2021-09-13T15:03:15.357241Z",
     "iopub.status.busy": "2021-09-13T15:03:15.356327Z",
     "iopub.status.idle": "2021-09-13T15:03:15.358929Z",
     "shell.execute_reply": "2021-09-13T15:03:15.358231Z"
    },
    "papermill": {
     "duration": 1.117803,
     "end_time": "2021-09-13T15:03:15.359086",
     "exception": false,
     "start_time": "2021-09-13T15:03:14.241283",
     "status": "completed"
    },
    "tags": []
   },
   "outputs": [],
   "source": [
    "# batch_size = 4096\n",
    "# dropout_rates = [0.0]\n",
    "# label_smoothing = 1e-2\n",
    "# learning_rate = 1e-3\n",
    "\n",
    "# seed_everything(seed=34)\n",
    "# oof3 = y.copy()\n",
    "# gkf = GroupKFold(n_splits = n_splits)\n",
    "# for fold, (tr, te) in enumerate(gkf.split(train['action'].values, train['action'].values, train['date'].values)):\n",
    "    \n",
    "#     X_tr, X_val = X.loc[tr, :], X.loc[te, :]\n",
    "#     y_tr, y_val = y[tr], y[te]\n",
    "    \n",
    "#     ckp_path = f'JSModel_nonlinear{fold}.hdf5'\n",
    "#     model = create_non_linear_mlp(X_tr.shape[1], 5, dropout_rates, label_smoothing, learning_rate)\n",
    "#     rlr = ReduceLROnPlateau(monitor = 'val_AUC', factor = 0.13521639718529144, patience = 3, verbose = 0, \n",
    "#                             min_delta = 1e-4, mode = 'max')\n",
    "#     ckp = ModelCheckpoint(ckp_path, monitor = 'val_AUC', verbose = 0, \n",
    "#                           save_best_only = True, save_weights_only = True, mode = 'max')\n",
    "#     es = EarlyStopping(monitor = 'val_AUC', min_delta = 1e-4, patience = 7, mode = 'max', \n",
    "#                        baseline = None, restore_best_weights = True, verbose = 0)\n",
    "#     model.fit(X_tr, y_tr, validation_data = (X_val, y_val), epochs = 1000, \n",
    "#               batch_size = batch_size, callbacks = [rlr, ckp, es], verbose = 1, sample_weight = weighted_values.loc[tr])\n",
    "                \n",
    "#     oof3[te] = model.predict(X_val, batch_size = batch_size * 4)\n",
    "    \n",
    "#     # Finetune 3 epochs on validation set with small learning rate\n",
    "#     model = create_non_linear_mlp(X_tr.shape[1], 5, dropout_rates, label_smoothing, learning_rate / 100)\n",
    "#     model.load_weights(ckp_path)\n",
    "#     model.fit(X_val, y_val, epochs = 3, batch_size = batch_size, verbose = 0)\n",
    "#     model.save_weights(ckp_path)\n",
    "    \n",
    "#     K.clear_session()\n",
    "#     del model\n",
    "#     rubbish = gc.collect()"
   ]
  },
  {
   "cell_type": "code",
   "execution_count": 24,
   "id": "f6aa781a",
   "metadata": {
    "_kg_hide-input": true,
    "execution": {
     "iopub.execute_input": "2021-09-13T15:03:16.804391Z",
     "iopub.status.busy": "2021-09-13T15:03:16.802907Z",
     "iopub.status.idle": "2021-09-13T15:03:50.157871Z",
     "shell.execute_reply": "2021-09-13T15:03:50.156596Z"
    },
    "papermill": {
     "duration": 34.061598,
     "end_time": "2021-09-13T15:03:50.158017",
     "exception": false,
     "start_time": "2021-09-13T15:03:16.096419",
     "status": "completed"
    },
    "tags": []
   },
   "outputs": [],
   "source": [
    "batch_size = 4096\n",
    "dropout_rates = [0.0]\n",
    "label_smoothing = 1e-2\n",
    "learning_rate = 1e-3\n",
    "\n",
    "\n",
    "oof2 = np.zeros(y.shape)\n",
    "gkf = PurgedGroupTimeSeriesSplit(n_splits = n_splits, group_gap = group_gap)\n",
    "for fold, (tr, te) in enumerate(gkf.split(train['action'].values, train['action'].values, train['date'].values)):\n",
    "    \n",
    "    X_tr, X_val = X.loc[tr, :], X.loc[te, :]\n",
    "    y_tr, y_val = y[tr], y[te]\n",
    "    \n",
    "    model = create_non_linear_mlp(X_tr.shape[1], 5, dropout_rates, label_smoothing, learning_rate)\n",
    "    model.load_weights(f\"../input/jsautoencoderweights/JSModel_nonlinear{fold}.hdf5\")\n",
    "                \n",
    "    oof2[te] = model.predict(X_val, batch_size = batch_size * 4)\n",
    "    \n",
    "    K.clear_session()\n",
    "    del model\n",
    "    rubbish = gc.collect()"
   ]
  },
  {
   "cell_type": "code",
   "execution_count": 25,
   "id": "caea5297",
   "metadata": {
    "execution": {
     "iopub.execute_input": "2021-09-13T15:03:51.560255Z",
     "iopub.status.busy": "2021-09-13T15:03:51.559391Z",
     "iopub.status.idle": "2021-09-13T15:03:54.423407Z",
     "shell.execute_reply": "2021-09-13T15:03:54.422960Z"
    },
    "papermill": {
     "duration": 3.571191,
     "end_time": "2021-09-13T15:03:54.423534",
     "exception": false,
     "start_time": "2021-09-13T15:03:50.852343",
     "status": "completed"
    },
    "tags": []
   },
   "outputs": [
    {
     "name": "stdout",
     "output_type": "stream",
     "text": [
      "0.5220479137705926\n"
     ]
    }
   ],
   "source": [
    "score_oof = roc_auc_score(y, oof2)\n",
    "print(score_oof)"
   ]
  },
  {
   "cell_type": "markdown",
   "id": "e0a559d2",
   "metadata": {
    "papermill": {
     "duration": 0.69499,
     "end_time": "2021-09-13T15:03:55.815897",
     "exception": false,
     "start_time": "2021-09-13T15:03:55.120907",
     "status": "completed"
    },
    "tags": []
   },
   "source": [
    "# GroupKFold MLP"
   ]
  },
  {
   "cell_type": "code",
   "execution_count": 26,
   "id": "1fe17609",
   "metadata": {
    "execution": {
     "iopub.execute_input": "2021-09-13T15:03:57.239701Z",
     "iopub.status.busy": "2021-09-13T15:03:57.239131Z",
     "iopub.status.idle": "2021-09-13T15:03:57.242018Z",
     "shell.execute_reply": "2021-09-13T15:03:57.241576Z"
    },
    "papermill": {
     "duration": 0.730592,
     "end_time": "2021-09-13T15:03:57.242132",
     "exception": false,
     "start_time": "2021-09-13T15:03:56.511540",
     "status": "completed"
    },
    "tags": []
   },
   "outputs": [],
   "source": [
    "# batch_size = 4096\n",
    "# dropout_rates = [0.0]\n",
    "# label_smoothing = 1e-2\n",
    "# learning_rate = 1e-3\n",
    "\n",
    "# seed_everything(seed=34)\n",
    "# oof3 = y.copy()\n",
    "# gkf = GroupKFold(n_splits = n_splits)\n",
    "# for fold, (tr, te) in enumerate(gkf.split(train['action'].values, train['action'].values, train['date'].values)):\n",
    "    \n",
    "#     X_tr, X_val = X.loc[tr, :], X.loc[te, :]\n",
    "#     y_tr, y_val = y[tr], y[te]\n",
    "    \n",
    "#     ckp_path = f'JSModel_nonlinear{fold}.hdf5'\n",
    "#     model = create_non_linear_mlp(X_tr.shape[1], 5, dropout_rates, label_smoothing, learning_rate)\n",
    "#     rlr = ReduceLROnPlateau(monitor = 'val_AUC', factor = 0.13521639718529144, patience = 3, verbose = 0, \n",
    "#                             min_delta = 1e-4, mode = 'max')\n",
    "#     ckp = ModelCheckpoint(ckp_path, monitor = 'val_AUC', verbose = 0, \n",
    "#                           save_best_only = True, save_weights_only = True, mode = 'max')\n",
    "#     es = EarlyStopping(monitor = 'val_AUC', min_delta = 1e-4, patience = 7, mode = 'max', \n",
    "#                        baseline = None, restore_best_weights = True, verbose = 0)\n",
    "#     model.fit(X_tr, y_tr, validation_data = (X_val, y_val), epochs = 1000, \n",
    "#               batch_size = batch_size, callbacks = [rlr, ckp, es], verbose = 1)\n",
    "                \n",
    "#     oof3[te] = model.predict(X_val, batch_size = batch_size * 4)\n",
    "    \n",
    "#     # Finetune 3 epochs on validation set with small learning rate\n",
    "#     model = create_non_linear_mlp(X_tr.shape[1], 5, dropout_rates, label_smoothing, learning_rate / 100)\n",
    "#     model.load_weights(ckp_path)\n",
    "#     model.fit(X_val, y_val, epochs = 3, batch_size = batch_size, verbose = 0)\n",
    "#     model.save_weights(ckp_path)\n",
    "    \n",
    "#     K.clear_session()\n",
    "#     del model\n",
    "#     rubbish = gc.collect()"
   ]
  },
  {
   "cell_type": "markdown",
   "id": "dc05e9eb",
   "metadata": {
    "papermill": {
     "duration": 0.695665,
     "end_time": "2021-09-13T15:03:58.637276",
     "exception": false,
     "start_time": "2021-09-13T15:03:57.941611",
     "status": "completed"
    },
    "tags": []
   },
   "source": [
    "# Ensemble CV Score"
   ]
  },
  {
   "cell_type": "code",
   "execution_count": 27,
   "id": "ae6ebcdb",
   "metadata": {
    "execution": {
     "iopub.execute_input": "2021-09-13T15:04:00.033293Z",
     "iopub.status.busy": "2021-09-13T15:04:00.031752Z",
     "iopub.status.idle": "2021-09-13T15:04:02.719088Z",
     "shell.execute_reply": "2021-09-13T15:04:02.719498Z"
    },
    "papermill": {
     "duration": 3.388791,
     "end_time": "2021-09-13T15:04:02.719641",
     "exception": false,
     "start_time": "2021-09-13T15:03:59.330850",
     "status": "completed"
    },
    "tags": []
   },
   "outputs": [
    {
     "name": "stdout",
     "output_type": "stream",
     "text": [
      "0.5222380533194644\n"
     ]
    }
   ],
   "source": [
    "oof = oof2 + oof1\n",
    "oof /= 2\n",
    "score_oof = roc_auc_score(y, oof)\n",
    "print(score_oof)"
   ]
  },
  {
   "cell_type": "markdown",
   "id": "cba46c3c",
   "metadata": {
    "papermill": {
     "duration": 0.696913,
     "end_time": "2021-09-13T15:04:04.119057",
     "exception": false,
     "start_time": "2021-09-13T15:04:03.422144",
     "status": "completed"
    },
    "tags": []
   },
   "source": [
    "# Load Models"
   ]
  },
  {
   "cell_type": "code",
   "execution_count": 28,
   "id": "4e526745",
   "metadata": {
    "execution": {
     "iopub.execute_input": "2021-09-13T15:04:05.806114Z",
     "iopub.status.busy": "2021-09-13T15:04:05.805310Z",
     "iopub.status.idle": "2021-09-13T15:04:06.175578Z",
     "shell.execute_reply": "2021-09-13T15:04:06.175081Z"
    },
    "papermill": {
     "duration": 1.093305,
     "end_time": "2021-09-13T15:04:06.175719",
     "exception": false,
     "start_time": "2021-09-13T15:04:05.082414",
     "status": "completed"
    },
    "tags": []
   },
   "outputs": [],
   "source": [
    "# Non linear MLP\n",
    "\n",
    "num_models = 2\n",
    "\n",
    "models = []\n",
    "selected_folds = [2, 3]\n",
    "for i in range(num_models):\n",
    "    clf = create_non_linear_mlp(len(features), 5, dropout_rates, label_smoothing, learning_rate)\n",
    "#     clf.load_weights(f'../input/js-nn-models/JSModel_{selected_folds[i]}.hdf5')\n",
    "    clf.load_weights(f'../input/jsautoencoderweights/JSModel_nonlinear{selected_folds[i]}.hdf5')\n",
    "    clf.call = tf.function(clf.call, experimental_relax_shapes=True)\n",
    "    models.append(clf)"
   ]
  },
  {
   "cell_type": "code",
   "execution_count": 29,
   "id": "d295f0cb",
   "metadata": {
    "execution": {
     "iopub.execute_input": "2021-09-13T15:04:07.643167Z",
     "iopub.status.busy": "2021-09-13T15:04:07.642184Z",
     "iopub.status.idle": "2021-09-13T15:04:07.644185Z",
     "shell.execute_reply": "2021-09-13T15:04:07.644664Z"
    },
    "papermill": {
     "duration": 0.741129,
     "end_time": "2021-09-13T15:04:07.644857",
     "exception": false,
     "start_time": "2021-09-13T15:04:06.903728",
     "status": "completed"
    },
    "tags": []
   },
   "outputs": [],
   "source": [
    "# # MLP + GroupKFold\n",
    "\n",
    "\n",
    "# num_models = 2\n",
    "\n",
    "# selected_folds = [2, 3]\n",
    "# for i in range(num_models):\n",
    "#     clf = create_non_linear_mlp(len(features), 5, dropout_rates, label_smoothing, learning_rate)\n",
    "# #     clf.load_weights(f'../input/js-nn-models/JSModel_{selected_folds[i]}.hdf5')\n",
    "#     clf.load_weights(f'JSModel_nonlinear{selected_folds[i]}.hdf5')\n",
    "#     clf.call = tf.function(clf.call, experimental_relax_shapes=True)\n",
    "#     models.append(clf)\n"
   ]
  },
  {
   "cell_type": "code",
   "execution_count": 30,
   "id": "222a1ec2",
   "metadata": {
    "execution": {
     "iopub.execute_input": "2021-09-13T15:04:09.131696Z",
     "iopub.status.busy": "2021-09-13T15:04:09.130842Z",
     "iopub.status.idle": "2021-09-13T15:04:09.604883Z",
     "shell.execute_reply": "2021-09-13T15:04:09.603931Z"
    },
    "papermill": {
     "duration": 1.206803,
     "end_time": "2021-09-13T15:04:09.605027",
     "exception": false,
     "start_time": "2021-09-13T15:04:08.398224",
     "status": "completed"
    },
    "tags": []
   },
   "outputs": [],
   "source": [
    "# DAE + MLP\n",
    "\n",
    "num_models = 2\n",
    "\n",
    "\n",
    "selected_folds = [2, 3]\n",
    "for i in range(num_models):\n",
    "    clf = create_dae_mlp(len(features), 5, dropout_rates, label_smoothing, learning_rate,x)\n",
    "#     clf.load_weights(f'../input/js-nn-models/JSModel_{selected_folds[i]}.hdf5')\n",
    "    clf.load_weights(f'./JSModel_dae{selected_folds[i]}.hdf5')\n",
    "    clf.call = tf.function(clf.call, experimental_relax_shapes=True)\n",
    "    models.append(clf)"
   ]
  },
  {
   "cell_type": "code",
   "execution_count": 31,
   "id": "37336eb9",
   "metadata": {
    "execution": {
     "iopub.execute_input": "2021-09-13T15:04:11.001671Z",
     "iopub.status.busy": "2021-09-13T15:04:11.001052Z",
     "iopub.status.idle": "2021-09-13T15:04:11.013203Z",
     "shell.execute_reply": "2021-09-13T15:04:11.012732Z"
    },
    "papermill": {
     "duration": 0.706953,
     "end_time": "2021-09-13T15:04:11.013322",
     "exception": false,
     "start_time": "2021-09-13T15:04:10.306369",
     "status": "completed"
    },
    "tags": []
   },
   "outputs": [],
   "source": [
    "f_mean = np.load('../input/js-nn-models/f_mean.npy')\n",
    "# f_mean = np.load('./f_mean.npy')"
   ]
  },
  {
   "cell_type": "markdown",
   "id": "225e0712",
   "metadata": {
    "papermill": {
     "duration": 0.696187,
     "end_time": "2021-09-13T15:04:12.400564",
     "exception": false,
     "start_time": "2021-09-13T15:04:11.704377",
     "status": "completed"
    },
    "tags": []
   },
   "source": [
    "# Submitting\n",
    "\n",
    "Just use two models to reduce running time."
   ]
  },
  {
   "cell_type": "code",
   "execution_count": 32,
   "id": "56956c9e",
   "metadata": {
    "execution": {
     "iopub.execute_input": "2021-09-13T15:04:13.803816Z",
     "iopub.status.busy": "2021-09-13T15:04:13.802892Z",
     "iopub.status.idle": "2021-09-13T15:04:13.805474Z",
     "shell.execute_reply": "2021-09-13T15:04:13.805064Z"
    },
    "papermill": {
     "duration": 0.7109,
     "end_time": "2021-09-13T15:04:13.805590",
     "exception": false,
     "start_time": "2021-09-13T15:04:13.094690",
     "status": "completed"
    },
    "tags": []
   },
   "outputs": [],
   "source": [
    "def return_confident(lst):\n",
    "    return min(lst) if min(lst) < (1 - max(lst)) else max(lst)"
   ]
  },
  {
   "cell_type": "code",
   "execution_count": 33,
   "id": "001b12a6",
   "metadata": {
    "execution": {
     "iopub.execute_input": "2021-09-13T15:04:15.215897Z",
     "iopub.status.busy": "2021-09-13T15:04:15.214841Z",
     "iopub.status.idle": "2021-09-13T15:04:15.217483Z",
     "shell.execute_reply": "2021-09-13T15:04:15.220584Z"
    },
    "papermill": {
     "duration": 0.721164,
     "end_time": "2021-09-13T15:04:15.220806",
     "exception": false,
     "start_time": "2021-09-13T15:04:14.499642",
     "status": "completed"
    },
    "tags": []
   },
   "outputs": [],
   "source": [
    "env = janestreet.make_env()\n",
    "env_iter = env.iter_test()"
   ]
  },
  {
   "cell_type": "code",
   "execution_count": 34,
   "id": "3f9365cc",
   "metadata": {
    "_kg_hide-output": false,
    "execution": {
     "iopub.execute_input": "2021-09-13T15:04:16.870295Z",
     "iopub.status.busy": "2021-09-13T15:04:16.869319Z",
     "iopub.status.idle": "2021-09-13T15:08:06.954657Z",
     "shell.execute_reply": "2021-09-13T15:08:06.954173Z"
    },
    "papermill": {
     "duration": 230.817657,
     "end_time": "2021-09-13T15:08:06.954826",
     "exception": false,
     "start_time": "2021-09-13T15:04:16.137169",
     "status": "completed"
    },
    "tags": []
   },
   "outputs": [
    {
     "data": {
      "application/vnd.jupyter.widget-view+json": {
       "model_id": "6a4dda7180cd466890955938b9bd1052",
       "version_major": 2,
       "version_minor": 0
      },
      "text/plain": [
       "0it [00:00, ?it/s]"
      ]
     },
     "metadata": {},
     "output_type": "display_data"
    }
   ],
   "source": [
    "opt_th = 0.5\n",
    "f = np.mean\n",
    "for (test_df, pred_df) in tqdm(env.iter_test()):\n",
    "    if test_df['weight'].item() > 0:\n",
    "        x_tt = test_df.loc[:, features].values\n",
    "        if np.isnan(x_tt[:, 1:].sum()):\n",
    "            x_tt[:, 1:] = np.nan_to_num(x_tt[:, 1:]) + np.isnan(x_tt[:, 1:]) * f_mean\n",
    "        pred = np.apply_along_axis(return_confident, 0, [model(x_tt, training=False).numpy() for model in models])\n",
    "        pred = f(pred)\n",
    "        pred_df.action = np.where(pred >= opt_th, 1, 0).astype(int)\n",
    "    else:\n",
    "        pred_df.action = 0\n",
    "    env.predict(pred_df)"
   ]
  },
  {
   "cell_type": "code",
   "execution_count": null,
   "id": "906182c6",
   "metadata": {
    "papermill": {
     "duration": 0.696015,
     "end_time": "2021-09-13T15:08:08.368203",
     "exception": false,
     "start_time": "2021-09-13T15:08:07.672188",
     "status": "completed"
    },
    "tags": []
   },
   "outputs": [],
   "source": []
  }
 ],
 "metadata": {
  "kernelspec": {
   "display_name": "Python 3",
   "language": "python",
   "name": "python3"
  },
  "language_info": {
   "codemirror_mode": {
    "name": "ipython",
    "version": 3
   },
   "file_extension": ".py",
   "mimetype": "text/x-python",
   "name": "python",
   "nbconvert_exporter": "python",
   "pygments_lexer": "ipython3",
   "version": "3.7.10"
  },
  "papermill": {
   "default_parameters": {},
   "duration": 796.319851,
   "end_time": "2021-09-13T15:08:12.058705",
   "environment_variables": {},
   "exception": null,
   "input_path": "__notebook__.ipynb",
   "output_path": "__notebook__.ipynb",
   "parameters": {},
   "start_time": "2021-09-13T14:54:55.738854",
   "version": "2.3.3"
  },
  "widgets": {
   "application/vnd.jupyter.widget-state+json": {
    "state": {
     "05ce406cbb2d4d75a26c43033eec883a": {
      "model_module": "@jupyter-widgets/base",
      "model_module_version": "1.2.0",
      "model_name": "LayoutModel",
      "state": {
       "_model_module": "@jupyter-widgets/base",
       "_model_module_version": "1.2.0",
       "_model_name": "LayoutModel",
       "_view_count": null,
       "_view_module": "@jupyter-widgets/base",
       "_view_module_version": "1.2.0",
       "_view_name": "LayoutView",
       "align_content": null,
       "align_items": null,
       "align_self": null,
       "border": null,
       "bottom": null,
       "display": null,
       "flex": null,
       "flex_flow": null,
       "grid_area": null,
       "grid_auto_columns": null,
       "grid_auto_flow": null,
       "grid_auto_rows": null,
       "grid_column": null,
       "grid_gap": null,
       "grid_row": null,
       "grid_template_areas": null,
       "grid_template_columns": null,
       "grid_template_rows": null,
       "height": null,
       "justify_content": null,
       "justify_items": null,
       "left": null,
       "margin": null,
       "max_height": null,
       "max_width": null,
       "min_height": null,
       "min_width": null,
       "object_fit": null,
       "object_position": null,
       "order": null,
       "overflow": null,
       "overflow_x": null,
       "overflow_y": null,
       "padding": null,
       "right": null,
       "top": null,
       "visibility": null,
       "width": null
      }
     },
     "1c5e7b9e47044b5c9975673b2ceea1ea": {
      "model_module": "@jupyter-widgets/controls",
      "model_module_version": "1.5.0",
      "model_name": "FloatProgressModel",
      "state": {
       "_dom_classes": [],
       "_model_module": "@jupyter-widgets/controls",
       "_model_module_version": "1.5.0",
       "_model_name": "FloatProgressModel",
       "_view_count": null,
       "_view_module": "@jupyter-widgets/controls",
       "_view_module_version": "1.5.0",
       "_view_name": "ProgressView",
       "bar_style": "success",
       "description": "",
       "description_tooltip": null,
       "layout": "IPY_MODEL_568d3c9e4e5a4c9d9a9cab4b262a12b1",
       "max": 1.0,
       "min": 0.0,
       "orientation": "horizontal",
       "style": "IPY_MODEL_a96fbe3edbaa488680bd2fb3c249ae43",
       "value": 1.0
      }
     },
     "1ca9935b3efa448c8320d609aa59b769": {
      "model_module": "@jupyter-widgets/controls",
      "model_module_version": "1.5.0",
      "model_name": "HTMLModel",
      "state": {
       "_dom_classes": [],
       "_model_module": "@jupyter-widgets/controls",
       "_model_module_version": "1.5.0",
       "_model_name": "HTMLModel",
       "_view_count": null,
       "_view_module": "@jupyter-widgets/controls",
       "_view_module_version": "1.5.0",
       "_view_name": "HTMLView",
       "description": "",
       "description_tooltip": null,
       "layout": "IPY_MODEL_05ce406cbb2d4d75a26c43033eec883a",
       "placeholder": "​",
       "style": "IPY_MODEL_e30abf3ef54a497d98a69e1403b20e3b",
       "value": " 15219/? [03:50&lt;00:00, 105.53it/s]"
      }
     },
     "21aa33a68f1a4fea8c8cca5c24c7da20": {
      "model_module": "@jupyter-widgets/base",
      "model_module_version": "1.2.0",
      "model_name": "LayoutModel",
      "state": {
       "_model_module": "@jupyter-widgets/base",
       "_model_module_version": "1.2.0",
       "_model_name": "LayoutModel",
       "_view_count": null,
       "_view_module": "@jupyter-widgets/base",
       "_view_module_version": "1.2.0",
       "_view_name": "LayoutView",
       "align_content": null,
       "align_items": null,
       "align_self": null,
       "border": null,
       "bottom": null,
       "display": null,
       "flex": null,
       "flex_flow": null,
       "grid_area": null,
       "grid_auto_columns": null,
       "grid_auto_flow": null,
       "grid_auto_rows": null,
       "grid_column": null,
       "grid_gap": null,
       "grid_row": null,
       "grid_template_areas": null,
       "grid_template_columns": null,
       "grid_template_rows": null,
       "height": null,
       "justify_content": null,
       "justify_items": null,
       "left": null,
       "margin": null,
       "max_height": null,
       "max_width": null,
       "min_height": null,
       "min_width": null,
       "object_fit": null,
       "object_position": null,
       "order": null,
       "overflow": null,
       "overflow_x": null,
       "overflow_y": null,
       "padding": null,
       "right": null,
       "top": null,
       "visibility": null,
       "width": null
      }
     },
     "2d437c083fdc4aa3be5a536963c25d11": {
      "model_module": "@jupyter-widgets/base",
      "model_module_version": "1.2.0",
      "model_name": "LayoutModel",
      "state": {
       "_model_module": "@jupyter-widgets/base",
       "_model_module_version": "1.2.0",
       "_model_name": "LayoutModel",
       "_view_count": null,
       "_view_module": "@jupyter-widgets/base",
       "_view_module_version": "1.2.0",
       "_view_name": "LayoutView",
       "align_content": null,
       "align_items": null,
       "align_self": null,
       "border": null,
       "bottom": null,
       "display": null,
       "flex": null,
       "flex_flow": null,
       "grid_area": null,
       "grid_auto_columns": null,
       "grid_auto_flow": null,
       "grid_auto_rows": null,
       "grid_column": null,
       "grid_gap": null,
       "grid_row": null,
       "grid_template_areas": null,
       "grid_template_columns": null,
       "grid_template_rows": null,
       "height": null,
       "justify_content": null,
       "justify_items": null,
       "left": null,
       "margin": null,
       "max_height": null,
       "max_width": null,
       "min_height": null,
       "min_width": null,
       "object_fit": null,
       "object_position": null,
       "order": null,
       "overflow": null,
       "overflow_x": null,
       "overflow_y": null,
       "padding": null,
       "right": null,
       "top": null,
       "visibility": null,
       "width": null
      }
     },
     "3c992967afa9478e888abfefec8f56cc": {
      "model_module": "@jupyter-widgets/base",
      "model_module_version": "1.2.0",
      "model_name": "LayoutModel",
      "state": {
       "_model_module": "@jupyter-widgets/base",
       "_model_module_version": "1.2.0",
       "_model_name": "LayoutModel",
       "_view_count": null,
       "_view_module": "@jupyter-widgets/base",
       "_view_module_version": "1.2.0",
       "_view_name": "LayoutView",
       "align_content": null,
       "align_items": null,
       "align_self": null,
       "border": null,
       "bottom": null,
       "display": null,
       "flex": null,
       "flex_flow": null,
       "grid_area": null,
       "grid_auto_columns": null,
       "grid_auto_flow": null,
       "grid_auto_rows": null,
       "grid_column": null,
       "grid_gap": null,
       "grid_row": null,
       "grid_template_areas": null,
       "grid_template_columns": null,
       "grid_template_rows": null,
       "height": null,
       "justify_content": null,
       "justify_items": null,
       "left": null,
       "margin": null,
       "max_height": null,
       "max_width": null,
       "min_height": null,
       "min_width": null,
       "object_fit": null,
       "object_position": null,
       "order": null,
       "overflow": null,
       "overflow_x": null,
       "overflow_y": null,
       "padding": null,
       "right": null,
       "top": null,
       "visibility": null,
       "width": null
      }
     },
     "45b9f38711494467932406585fa510f3": {
      "model_module": "@jupyter-widgets/controls",
      "model_module_version": "1.5.0",
      "model_name": "DescriptionStyleModel",
      "state": {
       "_model_module": "@jupyter-widgets/controls",
       "_model_module_version": "1.5.0",
       "_model_name": "DescriptionStyleModel",
       "_view_count": null,
       "_view_module": "@jupyter-widgets/base",
       "_view_module_version": "1.2.0",
       "_view_name": "StyleView",
       "description_width": ""
      }
     },
     "4649cf44fc2140f2a0ea8104f3245697": {
      "model_module": "@jupyter-widgets/controls",
      "model_module_version": "1.5.0",
      "model_name": "HTMLModel",
      "state": {
       "_dom_classes": [],
       "_model_module": "@jupyter-widgets/controls",
       "_model_module_version": "1.5.0",
       "_model_name": "HTMLModel",
       "_view_count": null,
       "_view_module": "@jupyter-widgets/controls",
       "_view_module_version": "1.5.0",
       "_view_name": "HTMLView",
       "description": "",
       "description_tooltip": null,
       "layout": "IPY_MODEL_3c992967afa9478e888abfefec8f56cc",
       "placeholder": "​",
       "style": "IPY_MODEL_a0d1da567f034572a8142fbbfabe3a48",
       "value": " 139/139 [00:44&lt;00:00, 21.70it/s]"
      }
     },
     "568d3c9e4e5a4c9d9a9cab4b262a12b1": {
      "model_module": "@jupyter-widgets/base",
      "model_module_version": "1.2.0",
      "model_name": "LayoutModel",
      "state": {
       "_model_module": "@jupyter-widgets/base",
       "_model_module_version": "1.2.0",
       "_model_name": "LayoutModel",
       "_view_count": null,
       "_view_module": "@jupyter-widgets/base",
       "_view_module_version": "1.2.0",
       "_view_name": "LayoutView",
       "align_content": null,
       "align_items": null,
       "align_self": null,
       "border": null,
       "bottom": null,
       "display": null,
       "flex": null,
       "flex_flow": null,
       "grid_area": null,
       "grid_auto_columns": null,
       "grid_auto_flow": null,
       "grid_auto_rows": null,
       "grid_column": null,
       "grid_gap": null,
       "grid_row": null,
       "grid_template_areas": null,
       "grid_template_columns": null,
       "grid_template_rows": null,
       "height": null,
       "justify_content": null,
       "justify_items": null,
       "left": null,
       "margin": null,
       "max_height": null,
       "max_width": null,
       "min_height": null,
       "min_width": null,
       "object_fit": null,
       "object_position": null,
       "order": null,
       "overflow": null,
       "overflow_x": null,
       "overflow_y": null,
       "padding": null,
       "right": null,
       "top": null,
       "visibility": null,
       "width": "20px"
      }
     },
     "57ba6094a41c40dfb6e55ccdbd113481": {
      "model_module": "@jupyter-widgets/controls",
      "model_module_version": "1.5.0",
      "model_name": "DescriptionStyleModel",
      "state": {
       "_model_module": "@jupyter-widgets/controls",
       "_model_module_version": "1.5.0",
       "_model_name": "DescriptionStyleModel",
       "_view_count": null,
       "_view_module": "@jupyter-widgets/base",
       "_view_module_version": "1.2.0",
       "_view_name": "StyleView",
       "description_width": ""
      }
     },
     "6a4dda7180cd466890955938b9bd1052": {
      "model_module": "@jupyter-widgets/controls",
      "model_module_version": "1.5.0",
      "model_name": "HBoxModel",
      "state": {
       "_dom_classes": [],
       "_model_module": "@jupyter-widgets/controls",
       "_model_module_version": "1.5.0",
       "_model_name": "HBoxModel",
       "_view_count": null,
       "_view_module": "@jupyter-widgets/controls",
       "_view_module_version": "1.5.0",
       "_view_name": "HBoxView",
       "box_style": "",
       "children": [
        "IPY_MODEL_9c93350992264c81b6ef4125d2633dab",
        "IPY_MODEL_1c5e7b9e47044b5c9975673b2ceea1ea",
        "IPY_MODEL_1ca9935b3efa448c8320d609aa59b769"
       ],
       "layout": "IPY_MODEL_a6d9e41d439b4e25934515c6270accba"
      }
     },
     "7019143777c14151b2b89b5b65b7c23f": {
      "model_module": "@jupyter-widgets/base",
      "model_module_version": "1.2.0",
      "model_name": "LayoutModel",
      "state": {
       "_model_module": "@jupyter-widgets/base",
       "_model_module_version": "1.2.0",
       "_model_name": "LayoutModel",
       "_view_count": null,
       "_view_module": "@jupyter-widgets/base",
       "_view_module_version": "1.2.0",
       "_view_name": "LayoutView",
       "align_content": null,
       "align_items": null,
       "align_self": null,
       "border": null,
       "bottom": null,
       "display": null,
       "flex": null,
       "flex_flow": null,
       "grid_area": null,
       "grid_auto_columns": null,
       "grid_auto_flow": null,
       "grid_auto_rows": null,
       "grid_column": null,
       "grid_gap": null,
       "grid_row": null,
       "grid_template_areas": null,
       "grid_template_columns": null,
       "grid_template_rows": null,
       "height": null,
       "justify_content": null,
       "justify_items": null,
       "left": null,
       "margin": null,
       "max_height": null,
       "max_width": null,
       "min_height": null,
       "min_width": null,
       "object_fit": null,
       "object_position": null,
       "order": null,
       "overflow": null,
       "overflow_x": null,
       "overflow_y": null,
       "padding": null,
       "right": null,
       "top": null,
       "visibility": null,
       "width": null
      }
     },
     "7587ead38a184d2c841a1d137e1c674f": {
      "model_module": "@jupyter-widgets/controls",
      "model_module_version": "1.5.0",
      "model_name": "ProgressStyleModel",
      "state": {
       "_model_module": "@jupyter-widgets/controls",
       "_model_module_version": "1.5.0",
       "_model_name": "ProgressStyleModel",
       "_view_count": null,
       "_view_module": "@jupyter-widgets/base",
       "_view_module_version": "1.2.0",
       "_view_name": "StyleView",
       "bar_color": null,
       "description_width": ""
      }
     },
     "8b1499e85c6e4b0c964919164a24bea3": {
      "model_module": "@jupyter-widgets/controls",
      "model_module_version": "1.5.0",
      "model_name": "FloatProgressModel",
      "state": {
       "_dom_classes": [],
       "_model_module": "@jupyter-widgets/controls",
       "_model_module_version": "1.5.0",
       "_model_name": "FloatProgressModel",
       "_view_count": null,
       "_view_module": "@jupyter-widgets/controls",
       "_view_module_version": "1.5.0",
       "_view_name": "ProgressView",
       "bar_style": "success",
       "description": "",
       "description_tooltip": null,
       "layout": "IPY_MODEL_b79d9e13851d45079126606d034b9ac8",
       "max": 139.0,
       "min": 0.0,
       "orientation": "horizontal",
       "style": "IPY_MODEL_7587ead38a184d2c841a1d137e1c674f",
       "value": 139.0
      }
     },
     "9c93350992264c81b6ef4125d2633dab": {
      "model_module": "@jupyter-widgets/controls",
      "model_module_version": "1.5.0",
      "model_name": "HTMLModel",
      "state": {
       "_dom_classes": [],
       "_model_module": "@jupyter-widgets/controls",
       "_model_module_version": "1.5.0",
       "_model_name": "HTMLModel",
       "_view_count": null,
       "_view_module": "@jupyter-widgets/controls",
       "_view_module_version": "1.5.0",
       "_view_name": "HTMLView",
       "description": "",
       "description_tooltip": null,
       "layout": "IPY_MODEL_7019143777c14151b2b89b5b65b7c23f",
       "placeholder": "​",
       "style": "IPY_MODEL_57ba6094a41c40dfb6e55ccdbd113481",
       "value": ""
      }
     },
     "a0d1da567f034572a8142fbbfabe3a48": {
      "model_module": "@jupyter-widgets/controls",
      "model_module_version": "1.5.0",
      "model_name": "DescriptionStyleModel",
      "state": {
       "_model_module": "@jupyter-widgets/controls",
       "_model_module_version": "1.5.0",
       "_model_name": "DescriptionStyleModel",
       "_view_count": null,
       "_view_module": "@jupyter-widgets/base",
       "_view_module_version": "1.2.0",
       "_view_name": "StyleView",
       "description_width": ""
      }
     },
     "a6d9e41d439b4e25934515c6270accba": {
      "model_module": "@jupyter-widgets/base",
      "model_module_version": "1.2.0",
      "model_name": "LayoutModel",
      "state": {
       "_model_module": "@jupyter-widgets/base",
       "_model_module_version": "1.2.0",
       "_model_name": "LayoutModel",
       "_view_count": null,
       "_view_module": "@jupyter-widgets/base",
       "_view_module_version": "1.2.0",
       "_view_name": "LayoutView",
       "align_content": null,
       "align_items": null,
       "align_self": null,
       "border": null,
       "bottom": null,
       "display": null,
       "flex": null,
       "flex_flow": null,
       "grid_area": null,
       "grid_auto_columns": null,
       "grid_auto_flow": null,
       "grid_auto_rows": null,
       "grid_column": null,
       "grid_gap": null,
       "grid_row": null,
       "grid_template_areas": null,
       "grid_template_columns": null,
       "grid_template_rows": null,
       "height": null,
       "justify_content": null,
       "justify_items": null,
       "left": null,
       "margin": null,
       "max_height": null,
       "max_width": null,
       "min_height": null,
       "min_width": null,
       "object_fit": null,
       "object_position": null,
       "order": null,
       "overflow": null,
       "overflow_x": null,
       "overflow_y": null,
       "padding": null,
       "right": null,
       "top": null,
       "visibility": null,
       "width": null
      }
     },
     "a96fbe3edbaa488680bd2fb3c249ae43": {
      "model_module": "@jupyter-widgets/controls",
      "model_module_version": "1.5.0",
      "model_name": "ProgressStyleModel",
      "state": {
       "_model_module": "@jupyter-widgets/controls",
       "_model_module_version": "1.5.0",
       "_model_name": "ProgressStyleModel",
       "_view_count": null,
       "_view_module": "@jupyter-widgets/base",
       "_view_module_version": "1.2.0",
       "_view_name": "StyleView",
       "bar_color": null,
       "description_width": ""
      }
     },
     "b79d9e13851d45079126606d034b9ac8": {
      "model_module": "@jupyter-widgets/base",
      "model_module_version": "1.2.0",
      "model_name": "LayoutModel",
      "state": {
       "_model_module": "@jupyter-widgets/base",
       "_model_module_version": "1.2.0",
       "_model_name": "LayoutModel",
       "_view_count": null,
       "_view_module": "@jupyter-widgets/base",
       "_view_module_version": "1.2.0",
       "_view_name": "LayoutView",
       "align_content": null,
       "align_items": null,
       "align_self": null,
       "border": null,
       "bottom": null,
       "display": null,
       "flex": null,
       "flex_flow": null,
       "grid_area": null,
       "grid_auto_columns": null,
       "grid_auto_flow": null,
       "grid_auto_rows": null,
       "grid_column": null,
       "grid_gap": null,
       "grid_row": null,
       "grid_template_areas": null,
       "grid_template_columns": null,
       "grid_template_rows": null,
       "height": null,
       "justify_content": null,
       "justify_items": null,
       "left": null,
       "margin": null,
       "max_height": null,
       "max_width": null,
       "min_height": null,
       "min_width": null,
       "object_fit": null,
       "object_position": null,
       "order": null,
       "overflow": null,
       "overflow_x": null,
       "overflow_y": null,
       "padding": null,
       "right": null,
       "top": null,
       "visibility": null,
       "width": null
      }
     },
     "dc2c592435ab49f4b7686d16ad5db238": {
      "model_module": "@jupyter-widgets/controls",
      "model_module_version": "1.5.0",
      "model_name": "HBoxModel",
      "state": {
       "_dom_classes": [],
       "_model_module": "@jupyter-widgets/controls",
       "_model_module_version": "1.5.0",
       "_model_name": "HBoxModel",
       "_view_count": null,
       "_view_module": "@jupyter-widgets/controls",
       "_view_module_version": "1.5.0",
       "_view_name": "HBoxView",
       "box_style": "",
       "children": [
        "IPY_MODEL_f574f330cd8d4a7d9b1a48dd842fbd57",
        "IPY_MODEL_8b1499e85c6e4b0c964919164a24bea3",
        "IPY_MODEL_4649cf44fc2140f2a0ea8104f3245697"
       ],
       "layout": "IPY_MODEL_2d437c083fdc4aa3be5a536963c25d11"
      }
     },
     "e30abf3ef54a497d98a69e1403b20e3b": {
      "model_module": "@jupyter-widgets/controls",
      "model_module_version": "1.5.0",
      "model_name": "DescriptionStyleModel",
      "state": {
       "_model_module": "@jupyter-widgets/controls",
       "_model_module_version": "1.5.0",
       "_model_name": "DescriptionStyleModel",
       "_view_count": null,
       "_view_module": "@jupyter-widgets/base",
       "_view_module_version": "1.2.0",
       "_view_name": "StyleView",
       "description_width": ""
      }
     },
     "f574f330cd8d4a7d9b1a48dd842fbd57": {
      "model_module": "@jupyter-widgets/controls",
      "model_module_version": "1.5.0",
      "model_name": "HTMLModel",
      "state": {
       "_dom_classes": [],
       "_model_module": "@jupyter-widgets/controls",
       "_model_module_version": "1.5.0",
       "_model_name": "HTMLModel",
       "_view_count": null,
       "_view_module": "@jupyter-widgets/controls",
       "_view_module_version": "1.5.0",
       "_view_name": "HTMLView",
       "description": "",
       "description_tooltip": null,
       "layout": "IPY_MODEL_21aa33a68f1a4fea8c8cca5c24c7da20",
       "placeholder": "​",
       "style": "IPY_MODEL_45b9f38711494467932406585fa510f3",
       "value": "100%"
      }
     }
    },
    "version_major": 2,
    "version_minor": 0
   }
  }
 },
 "nbformat": 4,
 "nbformat_minor": 5
}
